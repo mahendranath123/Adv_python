{
 "cells": [
  {
   "cell_type": "code",
   "execution_count": null,
   "id": "2dcf6636-ff11-490d-a3a5-f32321bf06b6",
   "metadata": {},
   "outputs": [],
   "source": []
  },
  {
   "cell_type": "code",
   "execution_count": 12,
   "id": "98eefe0e-b5d1-498d-8c66-8f85eaf5ed5b",
   "metadata": {},
   "outputs": [
    {
     "name": "stdout",
     "output_type": "stream",
     "text": [
      "<class 'str'>\n",
      "<class 'int'>\n",
      "<class 'int'>\n",
      "<class 'float'>\n",
      "<class 'bool'>\n",
      "105\n"
     ]
    }
   ],
   "source": [
    "i=\"Phone\"\n",
    "print(type (i))\n",
    "i=5\n",
    "print(type(i))\n",
    "k=100\n",
    "print(type(k))\n",
    "j=2.5\n",
    "print(type(j))\n",
    "m=True\n",
    "print(type(m))\n",
    "print(i+k)"
   ]
  },
  {
   "cell_type": "code",
   "execution_count": null,
   "id": "02a561b8-4903-41ce-905d-3172cfd6df81",
   "metadata": {},
   "outputs": [],
   "source": []
  },
  {
   "cell_type": "code",
   "execution_count": 24,
   "id": "cb080003-9e45-4044-97ee-006917555f72",
   "metadata": {},
   "outputs": [
    {
     "name": "stdout",
     "output_type": "stream",
     "text": [
      "50\n"
     ]
    }
   ],
   "source": [
    "# self \n",
    "class item:\n",
    "    def cal(self,x,y):\n",
    "        \n",
    "        return x*y\n",
    "item1=item()\n",
    "item1.name=\"phone\"\n",
    "item1.price=10        \n",
    "item1.quantity=5\n",
    "print(item1.cal(item1.price,item1.quantity)) "
   ]
  },
  {
   "cell_type": "code",
   "execution_count": 12,
   "id": "9ccaca0d-8e92-400b-bf04-029ebb687370",
   "metadata": {},
   "outputs": [
    {
     "name": "stdout",
     "output_type": "stream",
     "text": [
      "xyz\n",
      "rodger is a mammal\n",
      "tom is a mammal\n",
      "name is akash\n",
      "name is tom\n",
      "this name is: xyz\n"
     ]
    }
   ],
   "source": [
    "class dog:\n",
    "    # class attribute\n",
    "    attr1=\"mammal\"\n",
    "    \n",
    "   # Instance attribute\n",
    "    def __init__ (self, name):\n",
    "        self.name=name\n",
    " # driver code\n",
    "# object instantiation\n",
    "rodger=dog(\"akash\")\n",
    "tom =dog(\"tom\")\n",
    "x = dog('xyz')\n",
    "\n",
    "# Acessing class attributes\n",
    "print(x.name)\n",
    "print(\"rodger is a {}\".format(rodger.__class__.attr1))\n",
    "print(\"tom is a {}\".format(tom.__class__.attr1))\n",
    "# Acessing instance attributes\n",
    "print(\"name is {}\".format(rodger.name))\n",
    "print(\"name is {}\".format(tom.name))\n",
    "print(f'this name is: {x.name}')\n",
    "\n",
    "\n"
   ]
  },
  {
   "cell_type": "code",
   "execution_count": 2,
   "id": "1afa6bb1-09ff-4020-8112-8fdff7a90afa",
   "metadata": {},
   "outputs": [
    {
     "name": "stdout",
     "output_type": "stream",
     "text": [
      "<__main__.dog object at 0x0000021C46ECF150>\n",
      "Rodger is a mammal\n",
      "tom is a parrot\n",
      "name is Rodger\n",
      "name is tom\n"
     ]
    }
   ],
   "source": [
    "class dog:\n",
    "    # class attribute\n",
    "    attr1=\"mammal\"\n",
    "    attr2=\"parrot\"\n",
    "    \n",
    "   # Instance attribute\n",
    "    def __init__ (self, name):\n",
    "        self.name=name\n",
    " # driver code\n",
    "# object instantiation\n",
    "rodger=dog(\"Rodger\")\n",
    "tom =dog(\"tom\")\n",
    "\n",
    "# Acessing class attributes\n",
    "print(\"Rodger is a {}\".format(rodger.attr1))\n",
    "print(\"tom is a {}\".format(tom.__class__.attr2))\n",
    "# Acessing instance attributes\n",
    "print(\"name is {}\".format(rodger.name))\n",
    "print(\"name is {}\".format(tom.name))\n",
    "\n",
    "\n"
   ]
  },
  {
   "cell_type": "code",
   "execution_count": 41,
   "id": "f10cebc2-2b3f-425f-8c00-709ccf4c43d6",
   "metadata": {},
   "outputs": [
    {
     "name": "stdout",
     "output_type": "stream",
     "text": [
      "Name is Rodger\n",
      "Name is Tommy\n"
     ]
    }
   ],
   "source": [
    "class Dog:\n",
    "    # class attribute\n",
    "    attr = \"mammal\"\n",
    "    #Instance attribute\n",
    "\n",
    "    def __init__(self, name):\n",
    "        self.name = name\n",
    "\n",
    "    def speak(self):\n",
    "        print(\"Name is {}\".format(self.name))\n",
    "\n",
    "# Driver code\n",
    "#object instantiation\n",
    "\n",
    "Rodger = Dog(\"Rodger\")\n",
    "Tommy = Dog(\"Tommy\")\n",
    "\n",
    "# Calling the speak method for each instance\n",
    "Rodger.speak()\n",
    "Tommy.speak()\n"
   ]
  },
  {
   "cell_type": "code",
   "execution_count": 28,
   "id": "7cebf7b4-6098-45c2-85fb-eda8fe93c961",
   "metadata": {},
   "outputs": [
    {
     "name": "stdout",
     "output_type": "stream",
     "text": [
      "bark bark\n",
      "ozzy  is  2  years old\n",
      "skippy  is  12  years old\n",
      "filou  is  21  years old\n"
     ]
    }
   ],
   "source": [
    "class Dog:\n",
    "    def __init__(self, name, age):\n",
    "        self.name = name\n",
    "        self.age = age\n",
    "\n",
    "    def bark(self):\n",
    "        print(\"bark bark\")\n",
    "\n",
    "    def doginfo(self):  \n",
    "        print(self.name , \" is \" ,self.age , \" years old\")\n",
    "\n",
    "# Creating instances of the Dog class\n",
    "ozzy = Dog(\"ozzy\", 2)\n",
    "skippy = Dog(\"skippy\", 12)\n",
    "filou = Dog(\"filou\", 21)\n",
    "\n",
    "# Calling the 'doginfo' method for each instance\n",
    "ozzy.bark()\n",
    "ozzy.doginfo()\n",
    "skippy.doginfo()\n",
    "filou.doginfo()\n"
   ]
  },
  {
   "cell_type": "code",
   "execution_count": 12,
   "id": "164d395c-85a7-4f50-849d-b7c0c0408776",
   "metadata": {},
   "outputs": [
    {
     "name": "stdout",
     "output_type": "stream",
     "text": [
      " you name is: name\n",
      "my is name akash\n"
     ]
    }
   ],
   "source": [
    "# 1\n",
    "class me:\n",
    "    k=\"name\"\n",
    "    def __init__(self,name):\n",
    "        self.name=name\n",
    "\n",
    "ak=me(\"akash\")\n",
    "print(f\" you name is: {ak.k}\" )\n",
    "print(f\"my is name {ak.name}\")"
   ]
  },
  {
   "cell_type": "code",
   "execution_count": 7,
   "id": "6dc9f153-dcd6-4418-9af1-4903eccbe70e",
   "metadata": {},
   "outputs": [
    {
     "name": "stdout",
     "output_type": "stream",
     "text": [
      "hiiiii\n",
      "fa 56\n",
      "jay 56\n"
     ]
    }
   ],
   "source": [
    "#2\n",
    "class ha:\n",
    "    da=\"jay\" # class attibutes\n",
    "    def __init__(self,name,age):\n",
    "        self.name=name  # insatance attitubes\n",
    "        self.age=age\n",
    "        print(\"hiiiii\")\n",
    "\n",
    "hay=ha(\"fa\",56)\n",
    "print(hay.name,hay.age)\n",
    "print(hay.da,hay.age)\n"
   ]
  },
  {
   "cell_type": "code",
   "execution_count": 8,
   "id": "fee03234-1982-4bcb-bd86-6997a9b09714",
   "metadata": {},
   "outputs": [
    {
     "name": "stdout",
     "output_type": "stream",
     "text": [
      "you name is ak is age 56\n"
     ]
    }
   ],
   "source": [
    "#3\n",
    "class ya:\n",
    "    def __init__(self,name,age):\n",
    "        self.name=name\n",
    "        self.age=age\n",
    "    def get(self):\n",
    "        print(f\"you name is {self.name} is age {self.age}\")\n",
    "\n",
    "fa=ya(\"ak\",56)\n",
    "fa.get()\n",
    "\n"
   ]
  },
  {
   "cell_type": "code",
   "execution_count": 9,
   "id": "d14e7a9a-9006-4215-8219-58f9c1fe2c80",
   "metadata": {},
   "outputs": [
    {
     "name": "stdout",
     "output_type": "stream",
     "text": [
      "da your age is 43place you livemumbai\n",
      "fa your age is 23place you livenew york\n"
     ]
    }
   ],
   "source": [
    "#4\n",
    "class pr:\n",
    "    def __init__(self,name,age,place):\n",
    "        self.name=name\n",
    "        self.age=age\n",
    "        self.place=place\n",
    "\n",
    "    def aa(self):\n",
    "        print(\"bark abark \")\n",
    "\n",
    "    def getname(self):\n",
    "        print(f\"{self.name} your age is {self.age} place you live{self.place}\")\n",
    "\n",
    "ak=pr(\"fa\",23,\"new york\")\n",
    "da=pr(\"da\",43,\"mumbai\")\n",
    "da.getname()\n",
    "ak.getname()\n",
    "    "
   ]
  },
  {
   "cell_type": "code",
   "execution_count": 1,
   "id": "610d975e-6040-4e90-a719-15f00476646b",
   "metadata": {},
   "outputs": [
    {
     "name": "stdin",
     "output_type": "stream",
     "text": [
      "enter  a you name  asd\n",
      "enter a you marks  sd\n"
     ]
    },
    {
     "name": "stdout",
     "output_type": "stream",
     "text": [
      " you name is asd   and marks is sd\n",
      "asd sd\n",
      "akash\n"
     ]
    }
   ],
   "source": [
    "class student:\n",
    "    name=\"akash\" # class attribute \n",
    "    \n",
    "    # default constructor\n",
    "    def __init__(self):\n",
    "         pass\n",
    "     # parameterize constructor\n",
    "    def __init__(self,name,marks):\n",
    "        self.name = name    # instance attribute\n",
    "        \n",
    "        self.marks = marks\n",
    "        print(\" you name is \" + self.name+\"   and marks is \" + self.marks)\n",
    "        \n",
    "       \n",
    "        \n",
    "s1=input(\"enter  a you name \")\n",
    "s2=input(\"enter a you marks \")\n",
    "\n",
    "d1=student(s1,s2)\n",
    "print (d1.name,d1.marks)\n",
    "print(student.name)"
   ]
  },
  {
   "cell_type": "code",
   "execution_count": 48,
   "id": "6e9fabd0-6cc9-4c47-8d25-c64c59809600",
   "metadata": {},
   "outputs": [
    {
     "name": "stdout",
     "output_type": "stream",
     "text": [
      "adding number5\n",
      "adding number11\n",
      "adding number135\n"
     ]
    }
   ],
   "source": [
    "class main:\n",
    "    g=\"hi\"\n",
    "    def __init__(self,number1,number2):\n",
    "        self.number1=number1\n",
    "        self.number2=number2\n",
    "\n",
    "    def method (self):\n",
    "        print(f\"adding number{self.number1+self.number2}\")\n",
    "\n",
    "n1=main(1,4)\n",
    "n2=main(2,9)\n",
    "n3 = main(59,76)\n",
    "n1.method()\n",
    "n2.method()\n",
    "n3.method()\n",
    "\n",
    "\n",
    "#print(n1.number1,n2.number2)\n",
    "\n"
   ]
  },
  {
   "cell_type": "code",
   "execution_count": 53,
   "id": "c57c4b79-4f1d-44c0-b5ec-3d352fc43d80",
   "metadata": {},
   "outputs": [
    {
     "name": "stdout",
     "output_type": "stream",
     "text": [
      " your name is ak bus is name tatayou age is 78\n"
     ]
    }
   ],
   "source": [
    "class tea:\n",
    "    def __init__(self,name,bus,age):\n",
    "        self.name=name\n",
    "        self.bus=bus\n",
    "        self.age=age\n",
    "    def me(self):\n",
    "        print(f\" your name is {self.name} bus is name {self.bus}you age is {self.age}\")\n",
    "\n",
    "tr=tea(\"ak\",\"tata\",78)\n",
    "tr.me()\n",
    "\n",
    "\n",
    "    "
   ]
  },
  {
   "cell_type": "code",
   "execution_count": 58,
   "id": "e136a2d3-d148-4e18-bf14-150e16d4a43c",
   "metadata": {},
   "outputs": [
    {
     "name": "stdout",
     "output_type": "stream",
     "text": [
      "adding number57 multiple 540 \n"
     ]
    }
   ],
   "source": [
    "class cal:\n",
    "    def __init__(self,num1,num2):\n",
    "        self.num1=num1\n",
    "        self.num2=num2\n",
    "\n",
    "    def ya(self):\n",
    "        print(f\"adding number{self.num1+self.num2} multiple {self.num1*self.num2} \")\n",
    "\n",
    "re=cal(12,45)\n",
    "re.ya()\n",
    "\n"
   ]
  },
  {
   "cell_type": "code",
   "execution_count": 9,
   "id": "7a37eb4e-55a9-4038-b517-82a94696a68b",
   "metadata": {},
   "outputs": [
    {
     "name": "stdout",
     "output_type": "stream",
     "text": [
      "akash\n",
      "21\n"
     ]
    }
   ],
   "source": [
    "class person:\n",
    "    def __init__(self,name,age):\n",
    "        self.name=name\n",
    "        self.age=age\n",
    "\n",
    "p1=person(\"akash\",21)\n",
    "print(p1.name) \n",
    "print(p1.age)"
   ]
  },
  {
   "cell_type": "code",
   "execution_count": 16,
   "id": "c0e05e89-4a6d-4e57-aea6-e03186185d53",
   "metadata": {},
   "outputs": [
    {
     "name": "stdout",
     "output_type": "stream",
     "text": [
      "ak (67)\n"
     ]
    }
   ],
   "source": [
    "class person:\n",
    "    def __init__(self,name,age):\n",
    "        self.name=name\n",
    "        self.age=age\n",
    "    def __str__(self):\n",
    "        return f\"{self.name} ({self.age})\"\n",
    "p1=person(\"ak\",67)\n",
    "print(p1)"
   ]
  },
  {
   "cell_type": "code",
   "execution_count": 17,
   "id": "6560aec5-023a-4db3-aa2c-a75993b708db",
   "metadata": {},
   "outputs": [
    {
     "name": "stdout",
     "output_type": "stream",
     "text": [
      " hello my name is ak you are 45\n"
     ]
    }
   ],
   "source": [
    "class person:\n",
    "    def __init__(self,name,age):\n",
    "        self.name=name\n",
    "        self.age=age\n",
    "    def my(self):\n",
    "        print(f\" hello my name is {self.name} you are {self.age}\")\n",
    "\n",
    "p1=person(\"ak\",45)\n",
    "p1.my()\n"
   ]
  },
  {
   "cell_type": "code",
   "execution_count": 19,
   "id": "0026ecdd-1ce2-49f3-9767-70932448b87d",
   "metadata": {},
   "outputs": [
    {
     "name": "stdout",
     "output_type": "stream",
     "text": [
      "40 ak\n"
     ]
    }
   ],
   "source": [
    "class person:\n",
    "    def __init__(self,name,age):\n",
    "        self.name=name\n",
    "        self.age=age\n",
    "    def my(self):\n",
    "        print(f\" hello my name is {self.name} you are {self.age}\")\n",
    "p1=person(\"ak\",56)\n",
    "\n",
    "p1.age=40 # modify object properties\n",
    "print(p1.age,p1.name)"
   ]
  },
  {
   "cell_type": "code",
   "execution_count": 12,
   "id": "7483c7f7-d12c-44bb-af2f-f68002680a7b",
   "metadata": {},
   "outputs": [
    {
     "name": "stdout",
     "output_type": "stream",
     "text": [
      "p1's name: ak\n"
     ]
    },
    {
     "ename": "AttributeError",
     "evalue": "'Person' object has no attribute 'age'",
     "output_type": "error",
     "traceback": [
      "\u001b[1;31m---------------------------------------------------------------------------\u001b[0m",
      "\u001b[1;31mAttributeError\u001b[0m                            Traceback (most recent call last)",
      "Cell \u001b[1;32mIn[12], line 11\u001b[0m\n\u001b[0;32m      9\u001b[0m \u001b[38;5;28;01mdel\u001b[39;00m p1\u001b[38;5;241m.\u001b[39mage  \u001b[38;5;66;03m# deleting the age property from p1 object\u001b[39;00m\n\u001b[0;32m     10\u001b[0m \u001b[38;5;28mprint\u001b[39m(\u001b[38;5;124mf\u001b[39m\u001b[38;5;124m\"\u001b[39m\u001b[38;5;124mp1\u001b[39m\u001b[38;5;124m'\u001b[39m\u001b[38;5;124ms name: \u001b[39m\u001b[38;5;132;01m{\u001b[39;00mp1\u001b[38;5;241m.\u001b[39mname\u001b[38;5;132;01m}\u001b[39;00m\u001b[38;5;124m\"\u001b[39m)  \u001b[38;5;66;03m# This will still work because name is not deleted\u001b[39;00m\n\u001b[1;32m---> 11\u001b[0m \u001b[38;5;28mprint\u001b[39m(\u001b[38;5;124mf\u001b[39m\u001b[38;5;124m\"\u001b[39m\u001b[38;5;124mp1\u001b[39m\u001b[38;5;124m'\u001b[39m\u001b[38;5;124ms age: \u001b[39m\u001b[38;5;132;01m{\u001b[39;00m\u001b[43mp1\u001b[49m\u001b[38;5;241;43m.\u001b[39;49m\u001b[43mage\u001b[49m\u001b[38;5;132;01m}\u001b[39;00m\u001b[38;5;124m\"\u001b[39m)  \u001b[38;5;66;03m# This will raise an AttributeError since age is deleted\u001b[39;00m\n\u001b[0;32m     12\u001b[0m p1\u001b[38;5;241m.\u001b[39mmy()  \u001b[38;5;66;03m# This will print \"Hello, my name is ak and I am ? years old.\" because the age is deleted\u001b[39;00m\n",
      "\u001b[1;31mAttributeError\u001b[0m: 'Person' object has no attribute 'age'"
     ]
    }
   ],
   "source": [
    "class Person:\n",
    "   def __init__(self, name, age):\n",
    "       self.name = name\n",
    "       self.age = age\n",
    "   def my(self):\n",
    "       print(f\"Hello, my name is {self.name} and I am {self.age} years old.\")\n",
    "\n",
    "p1 = Person(\"ak\", 56)\n",
    "del p1.age  # deleting the age property from p1 object\n",
    "print(f\"p1's name: {p1.name}\")  # This will still work because name is not deleted\n",
    "print(f\"p1's age: {p1.age}\")  # This will raise an AttributeError since age is deleted\n",
    "p1.my()  # This will print \"Hello, my name is ak and I am ? years old.\" because the age is deleted\n"
   ]
  },
  {
   "cell_type": "markdown",
   "id": "e5f64cb3-b005-4c2a-8331-c7425a57754a",
   "metadata": {},
   "source": [
    "CLASEES AND OBJECTS\n",
    "    \n"
   ]
  },
  {
   "cell_type": "code",
   "execution_count": 27,
   "id": "689d51a0-78c2-4b3f-ac23-f9e2cc83effe",
   "metadata": {},
   "outputs": [
    {
     "name": "stdin",
     "output_type": "stream",
     "text": [
      "enter a id  5\n",
      "enter a name aka\n",
      "enter a salary 500\n"
     ]
    },
    {
     "name": "stdout",
     "output_type": "stream",
     "text": [
      "Employee details\n",
      "----------------------\n",
      "Enter Emp.ID :5\n",
      "Enter Name :aka\n",
      "Enter salary :500\n"
     ]
    }
   ],
   "source": [
    "class employee:\n",
    "    def __init__(self,id,name,salary):\n",
    "        self.id=id\n",
    "        self.name=name\n",
    "        self.salary=salary\n",
    "    def my(self):\n",
    "        print(\"Employee details\")\n",
    "        print(\"----------------------\")\n",
    "        print(f\"Enter Emp.ID :{self.id}\")\n",
    "        print(f\"Enter Name :{self.name}\")\n",
    "        print(f\"Enter salary :{self.salary}\")\n",
    "w1=int(input(\"enter a id \"))\n",
    "w2=input(\"enter a name\")\n",
    "w3=int(input(\"enter a salary\"))\n",
    "w4=employee(w1,w2,w3)\n",
    "w4.my()"
   ]
  },
  {
   "cell_type": "code",
   "execution_count": 30,
   "id": "659ad4d8-ddad-49d2-8479-396f6e5c6601",
   "metadata": {},
   "outputs": [
    {
     "name": "stdin",
     "output_type": "stream",
     "text": [
      "enter a id  5\n",
      "enter a name o\n",
      "enter a salary 55\n"
     ]
    },
    {
     "name": "stdout",
     "output_type": "stream",
     "text": [
      "Employee details\n",
      "----------------------\n",
      "Enter Emp.ID :5\n",
      "Enter Name :o\n",
      "Enter salary :55\n"
     ]
    }
   ],
   "source": [
    "class employee:\n",
    "    def getdata(self):\n",
    "        self.id= int(input(\"enter a id \"))\n",
    "        self.name=input(\"enter a name\")\n",
    "        self.salary=int(input(\"enter a salary\"))\n",
    "    def putdata(self):\n",
    "        print(\"Employee details\")\n",
    "        print(\"----------------------\")\n",
    "        print(f\"Enter Emp.ID :{self.id}\")\n",
    "        print(f\"Enter Name :{self.name}\")\n",
    "        print(f\"Enter salary :{self.salary}\")\n",
    "emp=employee()\n",
    "emp.getdata()\n",
    "emp.putdata()\n",
    "        "
   ]
  },
  {
   "cell_type": "code",
   "execution_count": 11,
   "id": "962f8625-3038-472b-b6d6-125f8ed9603e",
   "metadata": {},
   "outputs": [
    {
     "name": "stdin",
     "output_type": "stream",
     "text": [
      "enter a id  5\n",
      "enter a name jk\n",
      "enter a salary 56\n",
      "enter a id  54\n",
      "enter a name klj\n",
      "enter a salary 89\n"
     ]
    },
    {
     "name": "stdout",
     "output_type": "stream",
     "text": [
      "Employee details\n",
      "----------------------\n",
      "Enter Emp.ID :5\n",
      "Enter Name :jk\n",
      "Enter salary :56\n",
      "Enter Emp.ID :54\n",
      "Enter Name :klj\n",
      "Enter salary :89\n"
     ]
    }
   ],
   "source": [
    "class employee:\n",
    "    def getdata(self):\n",
    "        self.id= int(input(\"enter a id \"))\n",
    "        self.name=input(\"enter a name\")\n",
    "        self.salary=int(input(\"enter a salary\"))\n",
    "    def putdata(self):\n",
    "        \n",
    "        print(f\"Enter Emp.ID :{self.id}\")\n",
    "        print(f\"Enter Name :{self.name}\")\n",
    "        print(f\"Enter salary :{self.salary}\")\n",
    "        print(\"--------------------\")\n",
    "emp=employee()\n",
    "emp1=employee()\n",
    "emp.getdata()\n",
    "emp1.getdata()\n",
    "print(\"Employee details\")\n",
    "print(\"----------------------\")\n",
    "emp.putdata()\n",
    "emp1.putdata()\n",
    "\n",
    "\n",
    "\n"
   ]
  },
  {
   "cell_type": "code",
   "execution_count": 9,
   "id": "b64389d8-5307-49be-b832-ab1b8570704b",
   "metadata": {},
   "outputs": [
    {
     "name": "stdin",
     "output_type": "stream",
     "text": [
      "enter a id  5\n",
      "enter a name dg\n",
      "enter a salary 5\n",
      "enter a id  5\n",
      "enter a name fd\n",
      "enter a salary 5\n"
     ]
    },
    {
     "name": "stdout",
     "output_type": "stream",
     "text": [
      " Emp.ID  Name   salary\n",
      "  5  dg 5\n",
      " Emp.ID  Name   salary\n",
      "  5  fd 5\n"
     ]
    }
   ],
   "source": [
    "class employee:\n",
    "    def getdata(self):\n",
    "        self.id= int(input(\"enter a id \"))\n",
    "        self.name=input(\"enter a name\")\n",
    "        self.salary=int(input(\"enter a salary\"))\n",
    "    def putdata(self):\n",
    "\n",
    "        print(f\" Emp.ID  Name   salary\")\n",
    "        print(f\"  {self.id}  {self.name} {self.salary}\")\n",
    "        # print(f\"Enter Name :{self.name}\")\n",
    "        # print(f\"Enter salary :{self.salary}\")\n",
    "        # print(\"--------------------\")\n",
    "emp=employee()\n",
    "emp1=employee()\n",
    "emp.getdata()\n",
    "emp1.getdata()\n",
    "# print(\"Employee details\")\n",
    "# print(\"----------------------\")\n",
    "emp.putdata()\n",
    "emp1.putdata()\n"
   ]
  },
  {
   "cell_type": "markdown",
   "id": "b5cce4e2-ff99-4166-902a-99524764b2c4",
   "metadata": {},
   "source": [
    "PRACTICALS\n"
   ]
  },
  {
   "cell_type": "code",
   "execution_count": 4,
   "id": "e2b7c6da-62bc-4141-a057-7a0a36c05a8e",
   "metadata": {},
   "outputs": [
    {
     "name": "stdout",
     "output_type": "stream",
     "text": [
      "ak  for sfs\n"
     ]
    }
   ],
   "source": [
    "class go:\n",
    "    cl=\"good night\"  # class attibutes\n",
    "    \n",
    "    def __init__(self,name):\n",
    "        self.name=name  # instance attibutes\n",
    "    def fog (self,cl):\n",
    "        print(f\"{cl}  for {self.name}\")\n",
    "ha=go(\"sfs\")\n",
    "ha.fog(\"ak\")"
   ]
  },
  {
   "cell_type": "code",
   "execution_count": 7,
   "id": "972e56dc-3d6b-4e49-8d99-1f1dae83488c",
   "metadata": {},
   "outputs": [
    {
     "name": "stdout",
     "output_type": "stream",
     "text": [
      "Point coordinates: 4 and 5\n",
      "correct\n"
     ]
    }
   ],
   "source": [
    "class point:\n",
    "    ha=\"correct\"\n",
    "    def __init__(self,x,y):\n",
    "        self.x=x\n",
    "        self.y=y\n",
    "    def display (self,ha):\n",
    "        print(f\"Point coordinates: {self.x} and {self.y}\")\n",
    "        print(f\"{ha}\")\n",
    "s1=point(4,5)\n",
    "s1.display(point.ha)\n"
   ]
  },
  {
   "cell_type": "markdown",
   "id": "51083934-f508-493f-8c9d-70eb6e4131bc",
   "metadata": {},
   "source": [
    "https://you.com/search?q=What+does+%22s1%3Dpoint%284%2C5%29%22+achieve%3F&cid=c1_e72a4a3b-3e96-4d97-9b41-176d7c9a8f41&tbm=youchat "
   ]
  },
  {
   "cell_type": "code",
   "execution_count": 16,
   "id": "096316cf-5293-4f57-a1e4-f209f27be844",
   "metadata": {},
   "outputs": [
    {
     "name": "stdin",
     "output_type": "stream",
     "text": [
      "enter a length 5\n",
      "enter a width 5\n"
     ]
    },
    {
     "name": "stdout",
     "output_type": "stream",
     "text": [
      "area of rectangle 25\n"
     ]
    }
   ],
   "source": [
    "class Rectangle:\n",
    "    def __init__(self,l,w):\n",
    "        self.l=l\n",
    "        self.w=w\n",
    "    def di(self):\n",
    "        print(f\"area of rectangle {self.l* self.w}\")\n",
    "s1=int(input(\"enter a length\"))\n",
    "s2=int(input(\"enter a width\"))\n",
    "s1=Rectangle(s1,s2)\n",
    "s1.di()"
   ]
  },
  {
   "cell_type": "code",
   "execution_count": 18,
   "id": "7afdbc6c-96c0-4a87-aaa3-65171ba6fcdc",
   "metadata": {},
   "outputs": [
    {
     "name": "stdin",
     "output_type": "stream",
     "text": [
      "enter a car name fg\n",
      "enter a car model name gdf\n",
      "enter a year  89\n"
     ]
    },
    {
     "name": "stdout",
     "output_type": "stream",
     "text": [
      "car name  fg \n",
      " model name  gdf\n",
      " year 89\n"
     ]
    }
   ],
   "source": [
    "class Car:\n",
    "    def __init__(self,name,model,year):\n",
    "        self.name=name\n",
    "        self.model=model\n",
    "        self.year=year\n",
    "    def display (self):\n",
    "        print(f\"car name  {self.name } \\n model name  {self.model}\\n year {self.year}\")\n",
    "a=input(\"enter a car name\")\n",
    "b=input(\"enter a car model name\")\n",
    "c=int(input(\"enter a year \"))\n",
    "w1=Car(a,b,c)\n",
    "w1.display()"
   ]
  },
  {
   "cell_type": "code",
   "execution_count": null,
   "id": "bc6d1d7f-31e9-4249-9aba-46c5cdc69d31",
   "metadata": {},
   "outputs": [],
   "source": []
  }
 ],
 "metadata": {
  "kernelspec": {
   "display_name": "Python 3 (ipykernel)",
   "language": "python",
   "name": "python3"
  },
  "language_info": {
   "codemirror_mode": {
    "name": "ipython",
    "version": 3
   },
   "file_extension": ".py",
   "mimetype": "text/x-python",
   "name": "python",
   "nbconvert_exporter": "python",
   "pygments_lexer": "ipython3",
   "version": "3.11.4"
  }
 },
 "nbformat": 4,
 "nbformat_minor": 5
}
