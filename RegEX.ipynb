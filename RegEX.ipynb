{
 "cells": [
  {
   "cell_type": "code",
   "execution_count": 1,
   "id": "a2a4a827-4424-4688-b119-27cbc559c65c",
   "metadata": {},
   "outputs": [
    {
     "name": "stdout",
     "output_type": "stream",
     "text": [
      "the rain in spain\n",
      "Yes ! we have a match\n"
     ]
    }
   ],
   "source": [
    "import re\n",
    "# check if string starts with\"The \" and  e\n",
    "tx=\"the rain in spain\"\n",
    "print(tx)\n",
    "x=re.search(\"^the.*spain\",tx)\n",
    "if x:\n",
    "    print(\"Yes ! we have a match\")\n",
    "else:\n",
    "    print(\"NO match\")"
   ]
  },
  {
   "cell_type": "code",
   "execution_count": 2,
   "id": "c3901e68-7f0d-4468-92ce-630945244698",
   "metadata": {},
   "outputs": [
    {
     "name": "stdout",
     "output_type": "stream",
     "text": [
      "the rain in spain\n",
      "Yes ! we have a match\n"
     ]
    }
   ],
   "source": [
    "import re\n",
    "# check if string starts with\"The \" and  e\n",
    "tx=\"the rain in spain\"\n",
    "print(tx)\n",
    "x=re.search(\"^the.*in\",tx)\n",
    "if x:\n",
    "    print(\"Yes ! we have a match\")\n",
    "else:\n",
    "    print(\"NO match\")"
   ]
  },
  {
   "cell_type": "code",
   "execution_count": 8,
   "id": "6a0104e2-0d18-42ac-955c-28d7d6d97807",
   "metadata": {},
   "outputs": [
    {
     "name": "stdout",
     "output_type": "stream",
     "text": [
      "the rain in spain\n",
      "['in', 'in', 'in']\n"
     ]
    }
   ],
   "source": [
    "import re\n",
    "# check if string starts with\"The \" and  e\n",
    "tx=\"the rain in spain\"\n",
    "print(tx)\n",
    "x=re.findall(\"in\",tx)\n",
    "print(x)"
   ]
  },
  {
   "cell_type": "code",
   "execution_count": 10,
   "id": "fa6a41a6-e746-4611-b055-e9e9ec4f80c6",
   "metadata": {},
   "outputs": [
    {
     "name": "stdout",
     "output_type": "stream",
     "text": [
      "the rain in spain\n",
      "[]\n"
     ]
    }
   ],
   "source": [
    "import re\n",
    "# check if string starts with\"The \" and  e\n",
    "tx=\"the rain in spain\"\n",
    "print(tx)\n",
    "x=re.findall(\"d\",tx)\n",
    "print(x)"
   ]
  },
  {
   "cell_type": "code",
   "execution_count": 11,
   "id": "cadca8e7-4d97-4621-8b27-9c76106a30d7",
   "metadata": {},
   "outputs": [
    {
     "name": "stdout",
     "output_type": "stream",
     "text": [
      "the rain in spain\n",
      "NO match\n"
     ]
    }
   ],
   "source": [
    "import re\n",
    "# check if string starts with\"The \" and  e\n",
    "tx=\"the rain in spain\"\n",
    "print(tx)\n",
    "x=re.findall(\"Portgul\",tx)\n",
    "if x:\n",
    "    print(\"Yes ! we have a match\")\n",
    "else:\n",
    "    print(\"NO match\")"
   ]
  },
  {
   "cell_type": "code",
   "execution_count": 3,
   "id": "bf715612-6421-4cb1-be22-f346369cac54",
   "metadata": {},
   "outputs": [
    {
     "name": "stdout",
     "output_type": "stream",
     "text": [
      "the  rain in spain\n",
      "the first white-space character is loacated in postion 3\n"
     ]
    }
   ],
   "source": [
    "import re\n",
    "# check if string starts with\"The \" and  e\n",
    "tx=\"the  rain in spain\"\n",
    "print(tx)\n",
    "x=re.search(\" \",tx)\n",
    "print(\"the first white-space character is loacated in postion\",x.start())"
   ]
  },
  {
   "cell_type": "code",
   "execution_count": 3,
   "id": "3ca25afa-9902-4ade-8d98-e92a4be592a9",
   "metadata": {},
   "outputs": [
    {
     "name": "stdout",
     "output_type": "stream",
     "text": [
      "the rain in spain\n",
      "the first white-space character is loacated in postion 3\n"
     ]
    }
   ],
   "source": [
    "import re\n",
    "# check if string starts with\"The \" and  e\n",
    "tx=\"the rain in spain\"\n",
    "print(tx)\n",
    "x=re.search(r\"\\s\",tx)\n",
    "print(\"the first white-space character is loacated in postion\",x.start())"
   ]
  },
  {
   "cell_type": "code",
   "execution_count": 8,
   "id": "ed674515-52c0-4420-9f5e-f8e617566a0a",
   "metadata": {},
   "outputs": [
    {
     "name": "stdout",
     "output_type": "stream",
     "text": [
      "the rain in spain\n",
      "['the', 'rain', 'in spain']\n"
     ]
    }
   ],
   "source": [
    "import re\n",
    "# check if string starts with\"The \" and  e\n",
    "tx=\"the rain in spain\"\n",
    "print(tx)\n",
    "x=re.split(\"\\s\",tx,2)\n",
    "print(x)\n"
   ]
  },
  {
   "cell_type": "code",
   "execution_count": 2,
   "id": "3cbf6504-d328-490a-8793-36d88e2e281b",
   "metadata": {},
   "outputs": [
    {
     "name": "stdout",
     "output_type": "stream",
     "text": [
      "the rain in spain\n",
      "the@rain@in@spain\n"
     ]
    }
   ],
   "source": [
    "import re\n",
    "\n",
    "tx=\"the rain in spain\"\n",
    "print(tx)\n",
    "x=re.sub(\"\\s\",\"@\",tx)\n",
    "print(x)\n"
   ]
  },
  {
   "cell_type": "code",
   "execution_count": 4,
   "id": "d09eb302-5a57-4d0c-831d-64af35360d89",
   "metadata": {},
   "outputs": [
    {
     "name": "stdout",
     "output_type": "stream",
     "text": [
      "the rain in spain\n",
      "the@rain in spain\n"
     ]
    }
   ],
   "source": [
    "import re\n",
    "\n",
    "tx=\"the rain in spain\"\n",
    "print(tx)\n",
    "x=re.sub(\"\\s\",\"@\",tx,1)\n",
    "print(x)\n"
   ]
  },
  {
   "cell_type": "code",
   "execution_count": 6,
   "id": "f34ae826-90e6-4a85-8e76-176d6b1ee6de",
   "metadata": {},
   "outputs": [
    {
     "name": "stdout",
     "output_type": "stream",
     "text": [
      "the rain in spain\n",
      "(12, 14)\n"
     ]
    }
   ],
   "source": [
    "import re\n",
    "\n",
    "tx=\"the rain in spain\"\n",
    "print(tx)\n",
    "x=re.search(r\"\\bs\\w\",tx)\n",
    "print(x.span())\n"
   ]
  },
  {
   "cell_type": "markdown",
   "id": "93e7137d-8476-43b0-94d0-ab2f4105d656",
   "metadata": {},
   "source": [
    "METACHARACTERS\n",
    "    "
   ]
  },
  {
   "cell_type": "code",
   "execution_count": 2,
   "id": "a19921fb-9561-43f2-a6bc-3164e5c3472c",
   "metadata": {},
   "outputs": [
    {
     "name": "stdout",
     "output_type": "stream",
     "text": [
      "The rain in Spain\n",
      "['T', 'S']\n"
     ]
    }
   ],
   "source": [
    "import re\n",
    "\n",
    "tx=\"The rain in Spain\"\n",
    "print(tx)\n",
    "x=re.findall(\"[A-Z]\",tx)\n",
    "print(x)\n"
   ]
  },
  {
   "cell_type": "code",
   "execution_count": 4,
   "id": "76349967-cd16-4ce7-b3e6-a2f8414731d6",
   "metadata": {},
   "outputs": [
    {
     "name": "stdout",
     "output_type": "stream",
     "text": [
      "The rain in Spain\n",
      "['h', 'e', 'r', 'a', 'i', 'n', 'i', 'n', 'p', 'a', 'i', 'n']\n"
     ]
    }
   ],
   "source": [
    "import re\n",
    "\n",
    "tx=\"The rain in Spain\"\n",
    "#find all lowercase characters alphabetically between a to z\n",
    "# using metacharacter\n",
    "print(tx)\n",
    "x=re.findall(\"[a-z]\",tx)\n",
    "print(x)\n"
   ]
  },
  {
   "cell_type": "code",
   "execution_count": 8,
   "id": "de13255d-b470-4ddc-bf7a-25a12654aa8a",
   "metadata": {},
   "outputs": [
    {
     "name": "stdout",
     "output_type": "stream",
     "text": [
      "That will be $59 dollars\n",
      "['5', '9']\n"
     ]
    }
   ],
   "source": [
    "import re\n",
    "\n",
    "tx=\"That will be 59 dollars\"\n",
    "print(tx)\n",
    "x=re.findall(\"\\d\",tx)\n",
    "print(x)\n"
   ]
  },
  {
   "cell_type": "markdown",
   "id": "79364542-cf4e-403f-a010-0bf95635cc2d",
   "metadata": {},
   "source": [
    "special characters"
   ]
  },
  {
   "cell_type": "code",
   "execution_count": 10,
   "id": "0ccbe1d2-2d9f-4c2d-ba25-dfde882b0669",
   "metadata": {},
   "outputs": [
    {
     "name": "stdout",
     "output_type": "stream",
     "text": [
      "hello heffo hejjo hegao planet\n",
      "['hello', 'heffo', 'hejjo', 'hegao']\n"
     ]
    }
   ],
   "source": [
    "import re\n",
    "\n",
    "tx=\"hello heffo hejjo hegao planet\"\n",
    "print(tx)\n",
    "# seach for a sequence that starts with \"he \",followed by two (any) characters  and an \"a\"\n",
    "x=re.findall(\"h...o\",tx)\n",
    "print(x)\n"
   ]
  },
  {
   "cell_type": "code",
   "execution_count": 12,
   "id": "7faa0cca-0313-4274-aaaa-c001eb39a9f9",
   "metadata": {},
   "outputs": [
    {
     "name": "stdout",
     "output_type": "stream",
     "text": [
      "hello  planet\n",
      "Yes ! we have a match\n",
      "['hello']\n"
     ]
    }
   ],
   "source": [
    "import re\n",
    "\n",
    "tx=\"hello  planet\"\n",
    "print(tx)\n",
    "# start with ^ string\n",
    "x=re.findall(\"^hello\",tx)\n",
    "if x:\n",
    "    print(\"Yes ! we have a match\")\n",
    "else:\n",
    "    print(\"NO match\")\n",
    "print(x)\n"
   ]
  },
  {
   "cell_type": "code",
   "execution_count": 13,
   "id": "7bdabe73-cd6e-4030-ae38-56bedaeca49b",
   "metadata": {},
   "outputs": [
    {
     "name": "stdout",
     "output_type": "stream",
     "text": [
      "hello  planet\n",
      "Yes ! we have a match\n",
      "['planet']\n"
     ]
    }
   ],
   "source": [
    "import re\n",
    "\n",
    "tx=\"hello  planet\"\n",
    "print(tx)\n",
    "# start with ^ string\n",
    "x=re.findall(\"planet$\",tx)\n",
    "if x:\n",
    "    print(\"Yes ! we have a match\")\n",
    "else:\n",
    "    print(\"NO match\")\n",
    "print(x)\n"
   ]
  },
  {
   "cell_type": "code",
   "execution_count": 7,
   "id": "12c0d849-00ba-4aef-a877-c81bab26b53a",
   "metadata": {},
   "outputs": [
    {
     "name": "stdout",
     "output_type": "stream",
     "text": [
      "helldfgo  planet\n",
      "Yes ! we have a match\n",
      "['helldfgo']\n"
     ]
    }
   ],
   "source": [
    "import re\n",
    "\n",
    "tx=\"helldfgo  planet\"\n",
    "print(tx)\n",
    "# start with ^ string\n",
    "x=re.findall(\"he.*o\",tx)\n",
    "if x:\n",
    "    print(\"Yes ! we have a match\")\n",
    "else:\n",
    "    print(\"NO match\")\n",
    "print(x)\n"
   ]
  },
  {
   "cell_type": "code",
   "execution_count": 34,
   "id": "b22edd83-ba61-424b-8504-a464a37cd254",
   "metadata": {},
   "outputs": [
    {
     "name": "stdout",
     "output_type": "stream",
     "text": [
      "hello hwo planet\n",
      "Yes ! we have a match\n",
      "['hello hwo']\n"
     ]
    }
   ],
   "source": [
    "import re\n",
    "\n",
    "tx=\"hello hwo planet\"\n",
    "print(tx)\n",
    "# start with ^ string\n",
    "x=re.findall(\"he.+o\",tx)\n",
    "if x:\n",
    "    print(\"Yes ! we have a match\")\n",
    "else:\n",
    "    print(\"NO match\")\n",
    "print(x)\n"
   ]
  },
  {
   "cell_type": "code",
   "execution_count": 33,
   "id": "64939bd9-673b-48c7-8100-afd3f3f4c42c",
   "metadata": {},
   "outputs": [
    {
     "name": "stdout",
     "output_type": "stream",
     "text": [
      "helo planet\n",
      "Yes ! we have a match\n",
      "['helo']\n"
     ]
    }
   ],
   "source": [
    "import re\n",
    "\n",
    "tx=\"helo planet\"\n",
    "print(tx)\n",
    "# start with ^ string\n",
    "x=re.findall(\"he.?o\",tx)\n",
    "if x:\n",
    "    print(\"Yes ! we have a match\")\n",
    "else:\n",
    "    print(\"NO match\")\n",
    "print(x)\n"
   ]
  },
  {
   "cell_type": "code",
   "execution_count": 19,
   "id": "744384c4-b59c-4e84-9172-2c792d7ce2ee",
   "metadata": {},
   "outputs": [
    {
     "name": "stdout",
     "output_type": "stream",
     "text": [
      "hello  planet\n",
      "Yes ! we have a match\n",
      "['hello']\n"
     ]
    }
   ],
   "source": [
    "import re\n",
    "\n",
    "tx=\"hello  planet\"\n",
    "print(tx)\n",
    "# start with ^ string\n",
    "x=re.findall(\"he.{2}o\",tx)\n",
    "if x:\n",
    "    print(\"Yes ! we have a match\")\n",
    "else:\n",
    "    print(\"NO match\")\n",
    "print(x)\n"
   ]
  },
  {
   "cell_type": "code",
   "execution_count": 20,
   "id": "1fee3b20-5278-47e1-8b35-4e2444a35722",
   "metadata": {},
   "outputs": [
    {
     "name": "stdout",
     "output_type": "stream",
     "text": [
      " The rain spain falls in river\n",
      "Yes ! we have a match\n",
      "['river']\n"
     ]
    }
   ],
   "source": [
    "import re\n",
    "\n",
    "tx=\" The rain spain falls in river\"\n",
    "print(tx)\n",
    "\n",
    "x=re.findall(\"he.falls|river\",tx)\n",
    "if x:\n",
    "    print(\"Yes ! we have a match\")\n",
    "else:\n",
    "    print(\"NO match\")\n",
    "print(x)\n"
   ]
  },
  {
   "cell_type": "code",
   "execution_count": 38,
   "id": "fbbcee22-0c8a-4f49-88b7-e88d3d57bc27",
   "metadata": {},
   "outputs": [
    {
     "name": "stdout",
     "output_type": "stream",
     "text": [
      " The rain spain falls in river\n",
      "Yes ! we have a match\n",
      "[' The']\n"
     ]
    }
   ],
   "source": [
    "import re\n",
    "\n",
    "tx=\" The rain spain falls in river\"\n",
    "print(tx)\n",
    "\n",
    "x=re.findall(\"\\A The\",tx)\n",
    "if x:\n",
    "    print(\"Yes ! we have a match\")\n",
    "else:\n",
    "    print(\"NO match\")\n",
    "print(x)\n"
   ]
  },
  {
   "cell_type": "code",
   "execution_count": 14,
   "id": "940da239-d462-4168-ac6a-bae1d2b81e41",
   "metadata": {},
   "outputs": [
    {
     "name": "stdout",
     "output_type": "stream",
     "text": [
      " The rain spain falls in river\n",
      "NO match\n",
      "[]\n"
     ]
    }
   ],
   "source": [
    "import re\n",
    "\n",
    "tx=\" The rain spain falls in river\"\n",
    "print(tx)\n",
    "\n",
    "x=re.findall(r\"\\bain\",tx)\n",
    "if x:\n",
    "    print(\"Yes ! we have a match\")\n",
    "else:\n",
    "    print(\"NO match\")\n",
    "print(x)\n"
   ]
  },
  {
   "cell_type": "code",
   "execution_count": 14,
   "id": "ddf2174d-24b8-4101-9e78-8a78a8aadc6b",
   "metadata": {},
   "outputs": [
    {
     "name": "stdout",
     "output_type": "stream",
     "text": [
      " The ains spains falls in river\n",
      "Yes ! we have a match\n",
      "['ain', 'ain']\n"
     ]
    }
   ],
   "source": [
    "import re\n",
    "\n",
    "tx=\" The ains spains falls in river\"\n",
    "print(tx)\n",
    "\n",
    "x=re.findall(r\"ain\\B\",tx)\n",
    "if x:\n",
    "    print(\"Yes ! we have a match\")\n",
    "else:\n",
    "    print(\"NO match\")\n",
    "print(x)\n"
   ]
  },
  {
   "cell_type": "code",
   "execution_count": 15,
   "id": "b917ba4f-e200-4ae1-a948-f06fb62a6f04",
   "metadata": {},
   "outputs": [
    {
     "name": "stdout",
     "output_type": "stream",
     "text": [
      " The ain spains falls in river\n",
      "NO match\n",
      "[]\n"
     ]
    }
   ],
   "source": [
    "import re\n",
    "\n",
    "tx=\" The ain spains falls in river\"\n",
    "print(tx)\n",
    "\n",
    "x=re.findall(r\"B\\ain\",tx)\n",
    "if x:\n",
    "    print(\"Yes ! we have a match\")\n",
    "else:\n",
    "    print(\"NO match\")\n",
    "print(x)\n"
   ]
  },
  {
   "cell_type": "code",
   "execution_count": 21,
   "id": "2e0ff391-d642-4002-8085-cac50e2e314d",
   "metadata": {},
   "outputs": [
    {
     "name": "stdout",
     "output_type": "stream",
     "text": [
      " The ains spains falls in river\n",
      "NO match\n",
      "[]\n"
     ]
    }
   ],
   "source": [
    "import re\n",
    "\n",
    "tx=\" The ains spains falls in river\"\n",
    "print(tx)\n",
    "\n",
    "x=re.findall(r\"ain\\b\",tx)\n",
    "if x:\n",
    "    print(\"Yes ! we have a match\")\n",
    "else:\n",
    "    print(\"NO match\")\n",
    "print(x)\n"
   ]
  },
  {
   "cell_type": "code",
   "execution_count": null,
   "id": "66fa29dd-09e3-4218-be12-997d44b47a38",
   "metadata": {},
   "outputs": [],
   "source": []
  }
 ],
 "metadata": {
  "kernelspec": {
   "display_name": "Python 3 (ipykernel)",
   "language": "python",
   "name": "python3"
  },
  "language_info": {
   "codemirror_mode": {
    "name": "ipython",
    "version": 3
   },
   "file_extension": ".py",
   "mimetype": "text/x-python",
   "name": "python",
   "nbconvert_exporter": "python",
   "pygments_lexer": "ipython3",
   "version": "3.11.4"
  }
 },
 "nbformat": 4,
 "nbformat_minor": 5
}
