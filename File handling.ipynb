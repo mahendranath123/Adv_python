{
 "cells": [
  {
   "cell_type": "code",
   "execution_count": 7,
   "id": "408283c0-5252-4d95-b6f4-5a1c96654132",
   "metadata": {},
   "outputs": [
    {
     "name": "stdout",
     "output_type": "stream",
     "text": [
      "lorem hu\n",
      "\n",
      "hui\\\n"
     ]
    }
   ],
   "source": [
    "file=open('text.txt','r')\n",
    "for each in file:\n",
    "    print(each)"
   ]
  },
  {
   "cell_type": "code",
   "execution_count": 2,
   "id": "c2766169-6192-495d-89ff-97e4e22fd8e4",
   "metadata": {},
   "outputs": [
    {
     "name": "stdout",
     "output_type": "stream",
     "text": [
      "lorem hu\n",
      "hui\\\n"
     ]
    }
   ],
   "source": [
    "file=open('text.txt','r')\n",
    "print(file.read())"
   ]
  },
  {
   "cell_type": "code",
   "execution_count": 1,
   "id": "e7d4d72b-0ac0-4a87-9a63-e1d68ba43ab0",
   "metadata": {},
   "outputs": [
    {
     "name": "stdout",
     "output_type": "stream",
     "text": [
      "lorem hu\n",
      "hui\\\n"
     ]
    }
   ],
   "source": [
    "with open(\"text.txt\",\"r\") as  file:\n",
    "    data =file.read()\n",
    "print(data)\n"
   ]
  },
  {
   "cell_type": "code",
   "execution_count": 4,
   "id": "d73d8f48-835f-4a61-afc8-14a4770664d6",
   "metadata": {},
   "outputs": [
    {
     "name": "stdout",
     "output_type": "stream",
     "text": [
      "lorem\n"
     ]
    }
   ],
   "source": [
    "file=open('text.txt','r')\n",
    "print(file.read(5))"
   ]
  },
  {
   "cell_type": "code",
   "execution_count": 1,
   "id": "f76e912b-2c6d-4ab9-b654-37ff030d6037",
   "metadata": {},
   "outputs": [
    {
     "name": "stdout",
     "output_type": "stream",
     "text": [
      "['lorem', 'hu']\n",
      "['hui\\\\']\n"
     ]
    }
   ],
   "source": [
    "with open(\"text.txt\",\"r\") as  file:\n",
    "    data =file.readlines()\n",
    "    for i in data:\n",
    "        h=i.split()\n",
    "        print(h)\n",
    "\n"
   ]
  },
  {
   "cell_type": "code",
   "execution_count": 7,
   "id": "945186a7-d7b3-41dd-9056-dd2d41a3226a",
   "metadata": {},
   "outputs": [
    {
     "name": "stdout",
     "output_type": "stream",
     "text": [
      "this is python \n",
      "this a laptop \n",
      "this a bookok\n"
     ]
    }
   ],
   "source": [
    "file = open('text1.txt', 'w')\n",
    "lines = [\"this is python \\n\", \"this a laptop \\n\", \"this a book\"]\n",
    "file.writelines(lines)\n",
    "file.close()\n",
    "\n",
    "file = open('text1.txt', 'r')\n",
    "print(file.read())\n",
    "file.close()"
   ]
  },
  {
   "cell_type": "code",
   "execution_count": 12,
   "id": "75ff45f5-20a5-4c8d-ac08-1998a3a82cbd",
   "metadata": {},
   "outputs": [
    {
     "name": "stdout",
     "output_type": "stream",
     "text": [
      "this is python \n",
      " this a laptop \n",
      " this a book\n"
     ]
    }
   ],
   "source": [
    "file=open('text1.txt','r')\n",
    "print(file.read())"
   ]
  },
  {
   "cell_type": "code",
   "execution_count": 2,
   "id": "35f82115-c882-4a09-943b-443f0f66e301",
   "metadata": {},
   "outputs": [
    {
     "name": "stdout",
     "output_type": "stream",
     "text": [
      "this is python \n",
      " this a laptop \n",
      " this a book\n",
      "\n"
     ]
    }
   ],
   "source": [
    "file=open('text1.txt','r+')\n",
    "l=[\"output of read\"]\n",
    "print(file.read())\n",
    "print()\n",
    "file.seek(0)\n",
    "file.close()"
   ]
  },
  {
   "cell_type": "code",
   "execution_count": null,
   "id": "4d283c88-ac76-49c9-bc4a-712f7e2383eb",
   "metadata": {},
   "outputs": [],
   "source": [
    "# the seek (n) takes the file handle to the end\n",
    "# byte from the start"
   ]
  },
  {
   "cell_type": "code",
   "execution_count": 26,
   "id": "2cc46964-6e77-46f8-972a-cd9050716157",
   "metadata": {},
   "outputs": [
    {
     "name": "stdout",
     "output_type": "stream",
     "text": [
      "this is python \n",
      "\n",
      "\n"
     ]
    }
   ],
   "source": [
    "file=open('text1.txt','r+')\n",
    "l=[\"output of read\"]\n",
    "print(file.readline())\n",
    "print()\n",
    "file.seek(0)\n",
    "file.close()"
   ]
  },
  {
   "cell_type": "code",
   "execution_count": 28,
   "id": "550dafd0-aaa4-43ef-801e-046d4adc64e5",
   "metadata": {},
   "outputs": [
    {
     "name": "stdout",
     "output_type": "stream",
     "text": [
      "this is python \n",
      " thi\n",
      "\n"
     ]
    }
   ],
   "source": [
    "file=open('text1.txt','r+')\n",
    "l=[\"output of read\"]\n",
    "print(file.read(20))\n",
    "print()\n",
    "file.seek(0)\n",
    "file.close()"
   ]
  },
  {
   "cell_type": "code",
   "execution_count": 5,
   "id": "bd2c92b7-2d89-4cec-8357-d73185850f54",
   "metadata": {},
   "outputs": [
    {
     "name": "stdout",
     "output_type": "stream",
     "text": [
      "this \n"
     ]
    }
   ],
   "source": [
    "file=open('text1.txt','r+')\n",
    "l=[\"output of read\"]\n",
    "print(file.readline(5))\n",
    "\n",
    "file.seek(0)\n",
    "file.close()"
   ]
  },
  {
   "cell_type": "code",
   "execution_count": null,
   "id": "e9125691-8b58-450d-bc79-0259235a14d4",
   "metadata": {},
   "outputs": [],
   "source": []
  }
 ],
 "metadata": {
  "kernelspec": {
   "display_name": "Python 3 (ipykernel)",
   "language": "python",
   "name": "python3"
  },
  "language_info": {
   "codemirror_mode": {
    "name": "ipython",
    "version": 3
   },
   "file_extension": ".py",
   "mimetype": "text/x-python",
   "name": "python",
   "nbconvert_exporter": "python",
   "pygments_lexer": "ipython3",
   "version": "3.11.4"
  }
 },
 "nbformat": 4,
 "nbformat_minor": 5
}
