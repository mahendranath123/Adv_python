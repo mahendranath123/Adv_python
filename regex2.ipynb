{
 "cells": [
  {
   "cell_type": "code",
   "execution_count": 20,
   "id": "36bb71bd-ccad-4300-8b7b-c5fad8664ac0",
   "metadata": {},
   "outputs": [
    {
     "name": "stdout",
     "output_type": "stream",
     "text": [
      "['r', 'a', 'n', 'n', 'a', 'n']\n",
      "Yes ! we have a match\n"
     ]
    }
   ],
   "source": [
    "import re\n",
    "txt=\"The rain in spain\"\n",
    "x=re.findall(\"[arn]\",txt)\n",
    "print(x)\n",
    "if x:\n",
    "    print(\"Yes ! we have a match\")\n",
    "else:\n",
    "    print(\"NO match\")"
   ]
  },
  {
   "cell_type": "code",
   "execution_count": 4,
   "id": "b9f3ff4d-3d9e-4a29-a3af-90d72ed0d34f",
   "metadata": {},
   "outputs": [
    {
     "name": "stdout",
     "output_type": "stream",
     "text": [
      "['h', 'e', 'a', 'i', 'n', 'i', 'n', 'a', 'i', 'n']\n"
     ]
    }
   ],
   "source": [
    "import re\n",
    "txt=\"The rain in spain\"\n",
    "x=re.findall(\"[a-n]\",txt)\n",
    "print(x)\n"
   ]
  },
  {
   "cell_type": "code",
   "execution_count": 6,
   "id": "a4a0b08a-ff34-4d10-b356-fd5f39404993",
   "metadata": {},
   "outputs": [
    {
     "name": "stdout",
     "output_type": "stream",
     "text": [
      "['1', '2']\n"
     ]
    }
   ],
   "source": [
    "import re\n",
    "txt=\"The rain in spain 12\"\n",
    "x=re.findall(\"[0123]\",txt)\n",
    "print(x)\n",
    "if x:\n",
    "    print(\"Yes ! we have a match\")\n",
    "else:\n",
    "    print(\"NO match\")"
   ]
  },
  {
   "cell_type": "code",
   "execution_count": 7,
   "id": "32b7ddbc-44dc-4d57-9702-ddf22d0207d9",
   "metadata": {},
   "outputs": [
    {
     "name": "stdout",
     "output_type": "stream",
     "text": [
      "['1', '1', '4', '5']\n"
     ]
    }
   ],
   "source": [
    "import re\n",
    "txt=\" $ times before 11:45AM\"\n",
    "x=re.findall(\"[0-9]\",txt)\n",
    "print(x)\n",
    "if x:\n",
    "    print(\"Yes ! we have a match\")\n",
    "else:\n",
    "    print(\"NO match\")"
   ]
  },
  {
   "cell_type": "code",
   "execution_count": 8,
   "id": "b1ba4a02-dd3d-455f-98bf-2b70e44cbbf0",
   "metadata": {},
   "outputs": [
    {
     "name": "stdout",
     "output_type": "stream",
     "text": [
      "['11', '45']\n"
     ]
    }
   ],
   "source": [
    "import re\n",
    "txt=\" $ times before 11:45AM\"\n",
    "x=re.findall(\"[0-5][0-9]\",txt)\n",
    "print(x)\n",
    "if x:\n",
    "    print(\"Yes ! we have a match\")\n",
    "else:\n",
    "    print(\"NO match\")"
   ]
  },
  {
   "cell_type": "code",
   "execution_count": 11,
   "id": "30f5af08-1a78-4143-9308-14f182d2bde4",
   "metadata": {},
   "outputs": [
    {
     "name": "stdout",
     "output_type": "stream",
     "text": [
      "['t', 'i', 'm', 'e', 's', 'b', 'e', 'f', 'o', 'r', 'e', 'A', 'M']\n"
     ]
    }
   ],
   "source": [
    "import re\n",
    "txt=\" $ times before 11:45AM\"\n",
    "x=re.findall(\"[a-zA-Z]\",txt)\n",
    "print(x)\n",
    "if x:\n",
    "    print(\"Yes ! we have a match\")\n",
    "else:\n",
    "    print(\"NO match\")"
   ]
  },
  {
   "cell_type": "code",
   "execution_count": 12,
   "id": "e7268899-09fc-4e06-97bc-8ac6847df654",
   "metadata": {},
   "outputs": [
    {
     "name": "stdout",
     "output_type": "stream",
     "text": [
      "['-']\n"
     ]
    }
   ],
   "source": [
    "import re\n",
    "txt=\" 10-12\"\n",
    "x=re.findall(\"[-]\",txt)\n",
    "print(x)\n",
    "if x:\n",
    "    print(\"Yes ! we have a match\")\n",
    "else:\n",
    "    print(\"NO match\")"
   ]
  },
  {
   "cell_type": "code",
   "execution_count": 15,
   "id": "a30323af-a4c8-4dc7-b736-524b44eb0897",
   "metadata": {},
   "outputs": [
    {
     "name": "stdout",
     "output_type": "stream",
     "text": [
      "['+']\n",
      "Yes ! we have a match\n"
     ]
    }
   ],
   "source": [
    "import re\n",
    "txt=\" 10+12\"\n",
    "x=re.findall(\"[+]\",txt)\n",
    "print(x)\n",
    "if x:\n",
    "    print(\"Yes ! we have a match\")\n",
    "else:\n",
    "    print(\"NO match\")"
   ]
  },
  {
   "cell_type": "code",
   "execution_count": 17,
   "id": "0c9c05d1-0449-4cd0-87cc-a07624b8e727",
   "metadata": {},
   "outputs": [
    {
     "name": "stdout",
     "output_type": "stream",
     "text": [
      "['*']\n",
      "Yes ! we have a match\n"
     ]
    }
   ],
   "source": [
    "import re\n",
    "txt=\" 10*12\"\n",
    "x=re.findall(\"[*]\",txt)\n",
    "print(x)\n",
    "if x:\n",
    "    print(\"Yes ! we have a match\")\n",
    "else:\n",
    "    print(\"NO match\")"
   ]
  },
  {
   "cell_type": "code",
   "execution_count": 18,
   "id": "0cd96909-daea-46f6-b402-f55458a84ad8",
   "metadata": {},
   "outputs": [
    {
     "name": "stdout",
     "output_type": "stream",
     "text": [
      "['/']\n",
      "Yes ! we have a match\n"
     ]
    }
   ],
   "source": [
    "import re\n",
    "txt=\" 10/12\"\n",
    "x=re.findall(\"[/]\",txt)\n",
    "print(x)\n",
    "if x:\n",
    "    print(\"Yes ! we have a match\")\n",
    "else:\n",
    "    print(\"NO match\")"
   ]
  },
  {
   "cell_type": "code",
   "execution_count": 29,
   "id": "2d9eef05-ad72-4abe-8eeb-50cbdda30716",
   "metadata": {},
   "outputs": [
    {
     "name": "stdout",
     "output_type": "stream",
     "text": [
      "rain\n"
     ]
    }
   ],
   "source": [
    "import re\n",
    "txt=\" The rain in Spain\"\n",
    "x=re.search(r\"\\br\\w+\",txt)\n",
    "# print(x.string())\n",
    "print(x.group())\n"
   ]
  },
  {
   "cell_type": "code",
   "execution_count": 6,
   "id": "de46c83a-5403-4b5e-ab4e-6d1ac585fb81",
   "metadata": {},
   "outputs": [
    {
     "name": "stdout",
     "output_type": "stream",
     "text": [
      "['m']\n"
     ]
    }
   ],
   "source": [
    "# pr1\n",
    "import re\n",
    "a=\"icecream is delicious\"\n",
    "x=re.findall(r\"[m]\",a)\n",
    "print(x)"
   ]
  },
  {
   "cell_type": "code",
   "execution_count": 16,
   "id": "366b435d-1337-4e43-89c6-196e2e6fe9e6",
   "metadata": {},
   "outputs": [
    {
     "name": "stdout",
     "output_type": "stream",
     "text": [
      "['s']\n"
     ]
    }
   ],
   "source": [
    "# pr1\n",
    "import re\n",
    "a=\"icecream is delicious\"\n",
    "x=re.findall(r\"s$\",a)\n",
    "print(x)"
   ]
  },
  {
   "cell_type": "code",
   "execution_count": 9,
   "id": "a8497f1b-46ca-4b6c-a429-f2edc46ca6ad",
   "metadata": {},
   "outputs": [
    {
     "name": "stdout",
     "output_type": "stream",
     "text": [
      "match\n"
     ]
    }
   ],
   "source": [
    "import re\n",
    "a=\"akash@gmai.com\"\n",
    "r=re.search(r\"[@]\",a)\n",
    "if r:\n",
    "    print(\"match\")\n",
    "else:\n",
    "    print(\"not match\")\n"
   ]
  },
  {
   "cell_type": "code",
   "execution_count": 22,
   "id": "1903a1b0-4b99-4336-bd04-1b5848284eb0",
   "metadata": {},
   "outputs": [
    {
     "name": "stdout",
     "output_type": "stream",
     "text": [
      "match\n"
     ]
    }
   ],
   "source": [
    "import re\n",
    "a=\"akash@gmail.com\"\n",
    "r=re.search(r\"m$\",a)\n",
    "if r:\n",
    "    print(\"match\")\n",
    "else:\n",
    "    print(\"not match\")\n"
   ]
  },
  {
   "cell_type": "code",
   "execution_count": 23,
   "id": "3f7b0675-3be5-4bb7-89fe-af4f58d8d08f",
   "metadata": {},
   "outputs": [
    {
     "name": "stdout",
     "output_type": "stream",
     "text": [
      "match\n"
     ]
    }
   ],
   "source": [
    "import re\n",
    "a=\"akash@gmail.com\"\n",
    "r=re.search(r\"^ak\",a)\n",
    "if r:\n",
    "    print(\"match\")\n",
    "else:\n",
    "    print(\"not match\")\n"
   ]
  },
  {
   "cell_type": "code",
   "execution_count": 28,
   "id": "e64286c4-a67e-4a03-8745-dd87bad10e96",
   "metadata": {},
   "outputs": [
    {
     "name": "stdout",
     "output_type": "stream",
     "text": [
      "match\n"
     ]
    }
   ],
   "source": [
    "import re\n",
    "a=\"akash@gmail.com\"\n",
    "r=re.search(r\"com$\",a)\n",
    "if r:\n",
    "    print(\"match\")\n",
    "else:\n",
    "    print(\"not match\")\n"
   ]
  },
  {
   "cell_type": "code",
   "execution_count": 36,
   "id": "4e99b60c-6870-46b4-af58-2886cffd828f",
   "metadata": {},
   "outputs": [
    {
     "name": "stdout",
     "output_type": "stream",
     "text": [
      "['cha', 'cha', 'cha']\n"
     ]
    }
   ],
   "source": [
    "import re\n",
    "a=\"chaplin   charlic  char is good comedian\"\n",
    "r=re.findall(r\"c.a\",a)\n",
    "print(r)"
   ]
  },
  {
   "cell_type": "code",
   "execution_count": 38,
   "id": "a8d2b7dd-281a-4b97-b1ba-c80ef16f437d",
   "metadata": {},
   "outputs": [
    {
     "name": "stdout",
     "output_type": "stream",
     "text": [
      "['char', 'char', 'good']\n"
     ]
    }
   ],
   "source": [
    "import re\n",
    "a=\"chaplin   charlic  char is good comedian\"\n",
    "r=re.findall(r\"char|good\",a)\n",
    "print(r)"
   ]
  },
  {
   "cell_type": "code",
   "execution_count": 45,
   "id": "9b2da693-e8c9-46a7-8b7d-e4c0f1e1567f",
   "metadata": {},
   "outputs": [
    {
     "name": "stdout",
     "output_type": "stream",
     "text": [
      "['cha', 'cha', 'cha']\n"
     ]
    }
   ],
   "source": [
    "import re\n",
    "a=\"chaplin   charlic  char is good comedian\"\n",
    "r=re.findall(r\"ch?a\",a)\n",
    "print(r)"
   ]
  },
  {
   "cell_type": "code",
   "execution_count": 51,
   "id": "b15ecf8c-3295-4fa7-9ef9-c0c7d3b6c0b7",
   "metadata": {},
   "outputs": [
    {
     "name": "stdout",
     "output_type": "stream",
     "text": [
      "['cha', 'cha', 'cha']\n"
     ]
    }
   ],
   "source": [
    "import re\n",
    "a=\"chaplin   charlic  char is good comedian\"\n",
    "r=re.findall(r\"ch*a\",a)\n",
    "print(r)"
   ]
  },
  {
   "cell_type": "code",
   "execution_count": 59,
   "id": "ac7b5634-b117-476a-bafb-a9229e1bd4cb",
   "metadata": {},
   "outputs": [
    {
     "name": "stdout",
     "output_type": "stream",
     "text": [
      "['xyz', 'xyyz']\n"
     ]
    }
   ],
   "source": [
    "import re\n",
    "a=\"xyz ,xyyz\"\n",
    "r=re.findall(r\"xy+z\",a)\n",
    "print(r)"
   ]
  },
  {
   "cell_type": "code",
   "execution_count": 66,
   "id": "cbe36e33-8633-4121-8eb8-a512efeae6ee",
   "metadata": {},
   "outputs": [
    {
     "name": "stdout",
     "output_type": "stream",
     "text": [
      "match\n"
     ]
    }
   ],
   "source": [
    "import re\n",
    "a=\"India is not for experiences\"\n",
    "t=re.search(r\"^India.*for\",a)\n",
    "if t:\n",
    "    print(\"match\")\n",
    "else:\n",
    "    print(\"not match\")"
   ]
  },
  {
   "cell_type": "code",
   "execution_count": 68,
   "id": "3a8be927-244f-46c0-98a7-890cfde228a2",
   "metadata": {},
   "outputs": [
    {
     "name": "stdout",
     "output_type": "stream",
     "text": [
      "the  first white space  5\n"
     ]
    }
   ],
   "source": [
    "import re\n",
    "a=\"India is not for experiences\"\n",
    "t=re.search(r\"\\s\",a)\n",
    "print(\"the  first white space \",t.start())"
   ]
  },
  {
   "cell_type": "code",
   "execution_count": 72,
   "id": "051d04c8-384f-48c3-af49-14c81dc49805",
   "metadata": {},
   "outputs": [
    {
     "name": "stdout",
     "output_type": "stream",
     "text": [
      "['India', 'is not for experts']\n"
     ]
    }
   ],
   "source": [
    "import re\n",
    "a=\"India is not for experts\"\n",
    "t=re.split(r\"\\s\",a,1)\n",
    "print(t)"
   ]
  },
  {
   "cell_type": "code",
   "execution_count": 78,
   "id": "79033864-ae0b-4e39-95f6-5a94089cc01f",
   "metadata": {},
   "outputs": [
    {
     "name": "stdout",
     "output_type": "stream",
     "text": [
      "India@is@not for experts\n"
     ]
    }
   ],
   "source": [
    "import re\n",
    "a=\"India is not for experts\"\n",
    "t=re.sub(r\"\\s\",\"@\",a,2)\n",
    "print(t)"
   ]
  },
  {
   "cell_type": "code",
   "execution_count": 79,
   "id": "9ce50e17-0c6d-4913-8b3f-2e6330bf341a",
   "metadata": {},
   "outputs": [
    {
     "name": "stdout",
     "output_type": "stream",
     "text": [
      "['1', '2', '3']\n"
     ]
    }
   ],
   "source": [
    "import re\n",
    "a=\"India is not for experts number1,2,3\"\n",
    "t=re.findall(r\"\\d\",a)\n",
    "print(t)"
   ]
  },
  {
   "cell_type": "code",
   "execution_count": 80,
   "id": "986de67f-1f90-4bdb-a974-d3b0c0e5f39f",
   "metadata": {},
   "outputs": [
    {
     "name": "stdout",
     "output_type": "stream",
     "text": [
      "['India']\n"
     ]
    }
   ],
   "source": [
    "import re\n",
    "a=\"India is not for experts number1,2,3\"\n",
    "t=re.findall(r\"I...a\",a)\n",
    "print(t)"
   ]
  },
  {
   "cell_type": "code",
   "execution_count": 85,
   "id": "ec0360b3-5a9e-4d66-8ca3-7ecc8ec34f27",
   "metadata": {},
   "outputs": [
    {
     "name": "stdout",
     "output_type": "stream",
     "text": [
      "['India']\n"
     ]
    }
   ],
   "source": [
    "import re\n",
    "a=\"India is not for experts number1,2,3\"\n",
    "t=re.findall(r\"I.*a\",a)\n",
    "print(t)"
   ]
  },
  {
   "cell_type": "code",
   "execution_count": 87,
   "id": "ef8637ad-d958-4bc2-9714-e32e37665558",
   "metadata": {},
   "outputs": [
    {
     "name": "stdout",
     "output_type": "stream",
     "text": [
      "['for']\n"
     ]
    }
   ],
   "source": [
    "import re\n",
    "a=\"India is not for experts number1,2,3\"\n",
    "t=re.findall(r\"f.?r\",a)\n",
    "print(t)"
   ]
  },
  {
   "cell_type": "code",
   "execution_count": 90,
   "id": "62430689-3680-493d-a43c-59e2f6520185",
   "metadata": {},
   "outputs": [
    {
     "name": "stdout",
     "output_type": "stream",
     "text": [
      "['India']\n"
     ]
    }
   ],
   "source": [
    "import re\n",
    "a=\"India is not for experts number1,2,3\"\n",
    "t=re.findall(r\"I.{3}a\",a)\n",
    "print(t)"
   ]
  },
  {
   "cell_type": "code",
   "execution_count": 93,
   "id": "bdfe5619-d337-4a12-8269-d851d51b8d42",
   "metadata": {},
   "outputs": [
    {
     "name": "stdout",
     "output_type": "stream",
     "text": [
      "['India']\n"
     ]
    }
   ],
   "source": [
    "import re\n",
    "a=\"India is not for experts number1,2,3\"\n",
    "t=re.findall(r\"\\AIndia\",a)\n",
    "print(t)"
   ]
  },
  {
   "cell_type": "code",
   "execution_count": null,
   "id": "3fbe31da-a557-4dee-a97c-117fc4b6fa3e",
   "metadata": {},
   "outputs": [],
   "source": []
  }
 ],
 "metadata": {
  "kernelspec": {
   "display_name": "Python 3 (ipykernel)",
   "language": "python",
   "name": "python3"
  },
  "language_info": {
   "codemirror_mode": {
    "name": "ipython",
    "version": 3
   },
   "file_extension": ".py",
   "mimetype": "text/x-python",
   "name": "python",
   "nbconvert_exporter": "python",
   "pygments_lexer": "ipython3",
   "version": "3.11.4"
  }
 },
 "nbformat": 4,
 "nbformat_minor": 5
}
