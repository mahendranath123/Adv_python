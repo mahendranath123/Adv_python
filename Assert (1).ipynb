{
 "cells": [
  {
   "cell_type": "code",
   "execution_count": 3,
   "id": "7c5bfed0-7345-4148-adf1-964929761178",
   "metadata": {},
   "outputs": [
    {
     "name": "stdout",
     "output_type": "stream",
     "text": [
      "23\n"
     ]
    },
    {
     "ename": "AssertionError",
     "evalue": "value must be 23",
     "output_type": "error",
     "traceback": [
      "\u001b[1;31m---------------------------------------------------------------------------\u001b[0m",
      "\u001b[1;31mAssertionError\u001b[0m                            Traceback (most recent call last)",
      "Cell \u001b[1;32mIn[3], line 4\u001b[0m\n\u001b[0;32m      2\u001b[0m x\u001b[38;5;241m=\u001b[39m\u001b[38;5;241m23\u001b[39m\n\u001b[0;32m      3\u001b[0m \u001b[38;5;28mprint\u001b[39m(x)\n\u001b[1;32m----> 4\u001b[0m \u001b[38;5;28;01massert\u001b[39;00m x\u001b[38;5;241m==\u001b[39m\u001b[38;5;241m24\u001b[39m,\u001b[38;5;124m\"\u001b[39m\u001b[38;5;124mvalue must be 23\u001b[39m\u001b[38;5;124m\"\u001b[39m\n",
      "\u001b[1;31mAssertionError\u001b[0m: value must be 23"
     ]
    }
   ],
   "source": [
    "# assert value is true else the give error\n",
    "x=23\n",
    "\n",
    "assert x==24,\"value must be 23\""
   ]
  },
  {
   "cell_type": "code",
   "execution_count": 33,
   "id": "c2233d26-990c-40d9-8b10-9de7a279a8ed",
   "metadata": {},
   "outputs": [
    {
     "name": "stdin",
     "output_type": "stream",
     "text": [
      "enter a age 7\n"
     ]
    },
    {
     "ename": "AssertionError",
     "evalue": "age must be greater than 18",
     "output_type": "error",
     "traceback": [
      "\u001b[1;31m---------------------------------------------------------------------------\u001b[0m",
      "\u001b[1;31mAssertionError\u001b[0m                            Traceback (most recent call last)",
      "Cell \u001b[1;32mIn[33], line 3\u001b[0m\n\u001b[0;32m      1\u001b[0m a\u001b[38;5;241m=\u001b[39m\u001b[38;5;28mint\u001b[39m(\u001b[38;5;28minput\u001b[39m(\u001b[38;5;124m\"\u001b[39m\u001b[38;5;124menter a age\u001b[39m\u001b[38;5;124m\"\u001b[39m))\n\u001b[1;32m----> 3\u001b[0m \u001b[38;5;28;01massert\u001b[39;00m a\u001b[38;5;241m>\u001b[39m\u001b[38;5;241m=\u001b[39m\u001b[38;5;241m18\u001b[39m ,\u001b[38;5;124m\"\u001b[39m\u001b[38;5;124mage must be greater than 18\u001b[39m\u001b[38;5;124m\"\u001b[39m\n",
      "\u001b[1;31mAssertionError\u001b[0m: age must be greater than 18"
     ]
    }
   ],
   "source": [
    "a=int(input(\"enter a age\"))\n",
    "\n",
    "assert a>=18 ,\"age must be greater than 18\"\n",
    "\n",
    "\n",
    "\n",
    "\n",
    "   "
   ]
  },
  {
   "cell_type": "code",
   "execution_count": 47,
   "id": "03e7563a-dd01-45fc-8358-a1c7aa6c74c2",
   "metadata": {},
   "outputs": [
    {
     "name": "stdout",
     "output_type": "stream",
     "text": [
      "avg 1.5\n"
     ]
    }
   ],
   "source": [
    "def ca(n):\n",
    "    assert len(n)>0,\"List is empty\"\n",
    "    return sum(n)/len(n)\n",
    "\n",
    "n=[1,2]\n",
    "print(\"avg\",ca(n))\n"
   ]
  },
  {
   "cell_type": "code",
   "execution_count": 4,
   "id": "1de52b22-5a44-4b65-98cd-ef6e0dc61bd8",
   "metadata": {},
   "outputs": [
    {
     "name": "stdin",
     "output_type": "stream",
     "text": [
      "enter a number hjg\n"
     ]
    },
    {
     "name": "stdout",
     "output_type": "stream",
     "text": [
      "Please enter a  valid integer\n"
     ]
    }
   ],
   "source": [
    "def pos(n):\n",
    "    assert n>=0,\"only postive  number  are allowed\"\n",
    "    return n*n\n",
    "\n",
    "try:\n",
    "    n=int(input(\"enter a number\"))\n",
    "    print(pos(n))\n",
    "\n",
    "except AssertionError as e:\n",
    "    print(e)\n",
    "\n",
    "except ValueError:\n",
    "    print(\"Please enter a  valid integer\")"
   ]
  },
  {
   "cell_type": "code",
   "execution_count": 9,
   "id": "fe3d1a39-8059-4e45-8d22-5776faa013d4",
   "metadata": {},
   "outputs": [
    {
     "name": "stdout",
     "output_type": "stream",
     "text": [
      "the value\n"
     ]
    },
    {
     "ename": "AssertionError",
     "evalue": "invalid number",
     "output_type": "error",
     "traceback": [
      "\u001b[1;31m---------------------------------------------------------------------------\u001b[0m",
      "\u001b[1;31mAssertionError\u001b[0m                            Traceback (most recent call last)",
      "Cell \u001b[1;32mIn[9], line 4\u001b[0m\n\u001b[0;32m      2\u001b[0m b\u001b[38;5;241m=\u001b[39m\u001b[38;5;241m0\u001b[39m\n\u001b[0;32m      3\u001b[0m \u001b[38;5;28mprint\u001b[39m(\u001b[38;5;124m\"\u001b[39m\u001b[38;5;124mthe value\u001b[39m\u001b[38;5;124m\"\u001b[39m)\n\u001b[1;32m----> 4\u001b[0m \u001b[38;5;28;01massert\u001b[39;00m b\u001b[38;5;241m!=\u001b[39m\u001b[38;5;241m0\u001b[39m,\u001b[38;5;124m\"\u001b[39m\u001b[38;5;124minvalid number\u001b[39m\u001b[38;5;124m\"\u001b[39m\n\u001b[0;32m      5\u001b[0m \u001b[38;5;28mprint\u001b[39m(a\u001b[38;5;241m/\u001b[39mb)\n",
      "\u001b[1;31mAssertionError\u001b[0m: invalid number"
     ]
    }
   ],
   "source": [
    "a=4\n",
    "b=0\n",
    "print(\"the value\")\n",
    "assert b!=0,\"Zero Division Error\"\n",
    "print(a/b)\n"
   ]
  },
  {
   "cell_type": "code",
   "execution_count": 3,
   "id": "d2f638a4-e676-4985-9641-7cf68e0af9da",
   "metadata": {},
   "outputs": [
    {
     "name": "stdout",
     "output_type": "stream",
     "text": [
      "not divide\n"
     ]
    }
   ],
   "source": [
    "try:\n",
    "    a = 10\n",
    "    print(a/0)\n",
    "except ValueErorr:\n",
    "    print()\n",
    "except Exception as e:\n",
    "    print('not divide')"
   ]
  },
  {
   "cell_type": "code",
   "execution_count": 4,
   "id": "69ef63b1-a524-4680-b104-6f8d20c43931",
   "metadata": {},
   "outputs": [
    {
     "name": "stdout",
     "output_type": "stream",
     "text": [
      "average of  7.0\n"
     ]
    }
   ],
   "source": [
    "def avg(m):\n",
    "    assert len(m)!=0\n",
    "    return sum(m)/len(m)\n",
    "\n",
    "m1=[7]\n",
    "print(\"average of \",avg(m1))"
   ]
  },
  {
   "cell_type": "code",
   "execution_count": 1,
   "id": "13a073fd-e25d-4f15-869a-2cacb858d5f8",
   "metadata": {},
   "outputs": [
    {
     "name": "stdout",
     "output_type": "stream",
     "text": [
      "40 is ok\n",
      "26 is ok\n",
      "39 is ok\n",
      "30 is ok\n"
     ]
    },
    {
     "ename": "AssertionError",
     "evalue": "batch is rejected",
     "output_type": "error",
     "traceback": [
      "\u001b[1;31m---------------------------------------------------------------------------\u001b[0m",
      "\u001b[1;31mAssertionError\u001b[0m                            Traceback (most recent call last)",
      "Cell \u001b[1;32mIn[1], line 4\u001b[0m\n\u001b[0;32m      2\u001b[0m c\u001b[38;5;241m=\u001b[39m\u001b[38;5;241m26\u001b[39m\n\u001b[0;32m      3\u001b[0m \u001b[38;5;28;01mfor\u001b[39;00m i \u001b[38;5;129;01min\u001b[39;00m b:\n\u001b[1;32m----> 4\u001b[0m     \u001b[38;5;28;01massert\u001b[39;00m i\u001b[38;5;241m>\u001b[39m\u001b[38;5;241m=\u001b[39m\u001b[38;5;241m26\u001b[39m,\u001b[38;5;124m\"\u001b[39m\u001b[38;5;124mbatch is rejected\u001b[39m\u001b[38;5;124m\"\u001b[39m\n\u001b[0;32m      5\u001b[0m     \u001b[38;5;28mprint\u001b[39m(i,\u001b[38;5;124m\"\u001b[39m\u001b[38;5;124mis ok\u001b[39m\u001b[38;5;124m\"\u001b[39m)\n",
      "\u001b[1;31mAssertionError\u001b[0m: batch is rejected"
     ]
    }
   ],
   "source": [
    "b=[40,26,39,30,25,21]\n",
    "c=26\n",
    "for i in b:\n",
    "    assert i>=26,\"batch is rejected\"\n",
    "    print(i,\"is ok\")"
   ]
  },
  {
   "cell_type": "code",
   "execution_count": 3,
   "id": "dc3e0cb8-b946-4687-a772-317bedc1e0be",
   "metadata": {},
   "outputs": [
    {
     "name": "stdout",
     "output_type": "stream",
     "text": [
      "dictionary contains {'apple': 1, 'banana': 2, 'cherry': 3}\n"
     ]
    }
   ],
   "source": [
    "d={\"apple\":1,\"banana\":2,\"cherry\":3}\n",
    "assert d[\"apple\"]==1\n",
    "assert d[\"banana\"]==2\n",
    "assert d[\"cherry\"]==3\n",
    "print(\"dictionary contains\",d)"
   ]
  },
  {
   "cell_type": "code",
   "execution_count": 8,
   "id": "54471e40-24d3-46b0-be7a-76f752235c98",
   "metadata": {},
   "outputs": [
    {
     "name": "stdout",
     "output_type": "stream",
     "text": [
      "Area of rectangle with length and width 15\n"
     ]
    },
    {
     "ename": "AssertionError",
     "evalue": "length and width must be positive",
     "output_type": "error",
     "traceback": [
      "\u001b[1;31m---------------------------------------------------------------------------\u001b[0m",
      "\u001b[1;31mAssertionError\u001b[0m                            Traceback (most recent call last)",
      "Cell \u001b[1;32mIn[8], line 8\u001b[0m\n\u001b[0;32m      6\u001b[0m a1\u001b[38;5;241m=\u001b[39mcal(\u001b[38;5;241m3\u001b[39m,\u001b[38;5;241m5\u001b[39m)\n\u001b[0;32m      7\u001b[0m \u001b[38;5;28mprint\u001b[39m(\u001b[38;5;124m\"\u001b[39m\u001b[38;5;124mArea of rectangle with length and width\u001b[39m\u001b[38;5;124m\"\u001b[39m,a1)\n\u001b[1;32m----> 8\u001b[0m a2\u001b[38;5;241m=\u001b[39m\u001b[43mcal\u001b[49m\u001b[43m(\u001b[49m\u001b[38;5;241;43m-\u001b[39;49m\u001b[38;5;241;43m8\u001b[39;49m\u001b[43m,\u001b[49m\u001b[38;5;241;43m4\u001b[39;49m\u001b[43m)\u001b[49m\n\u001b[0;32m      9\u001b[0m \u001b[38;5;28mprint\u001b[39m(\u001b[38;5;124m\"\u001b[39m\u001b[38;5;124mArea of rectangle with length and width \u001b[39m\u001b[38;5;124m\"\u001b[39m,a2)\n",
      "Cell \u001b[1;32mIn[8], line 2\u001b[0m, in \u001b[0;36mcal\u001b[1;34m(l, w)\u001b[0m\n\u001b[0;32m      1\u001b[0m \u001b[38;5;28;01mdef\u001b[39;00m \u001b[38;5;21mcal\u001b[39m(l,w):\n\u001b[1;32m----> 2\u001b[0m     \u001b[38;5;28;01massert\u001b[39;00m l\u001b[38;5;241m>\u001b[39m\u001b[38;5;241m0\u001b[39m \u001b[38;5;129;01mand\u001b[39;00m w\u001b[38;5;241m>\u001b[39m\u001b[38;5;241m0\u001b[39m,\u001b[38;5;124m\"\u001b[39m\u001b[38;5;124mlength and width must be positive\u001b[39m\u001b[38;5;124m\"\u001b[39m\n\u001b[0;32m      3\u001b[0m     area\u001b[38;5;241m=\u001b[39ml\u001b[38;5;241m*\u001b[39mw\n\u001b[0;32m      4\u001b[0m     \u001b[38;5;28;01mreturn\u001b[39;00m area\n",
      "\u001b[1;31mAssertionError\u001b[0m: length and width must be positive"
     ]
    }
   ],
   "source": [
    "def cal(l,w):\n",
    "    assert l>0 and w>0,\"length and width must be positive\"\n",
    "    area=l*w\n",
    "    return area\n",
    "\n",
    "a1=cal(3,5)\n",
    "print(\"Area of rectangle with length and width\",a1)\n",
    "a2=cal(-8,4)\n",
    "print(\"Area of rectangle with length and width \",a2)"
   ]
  },
  {
   "cell_type": "code",
   "execution_count": 10,
   "id": "2acf4fa6-2894-4b5a-83ed-06a8263b728e",
   "metadata": {},
   "outputs": [
    {
     "name": "stdout",
     "output_type": "stream",
     "text": [
      "x = 10\n",
      "y = 20\n"
     ]
    }
   ],
   "source": [
    "x=10\n",
    "y=20\n",
    "assert x<y\n",
    "print(\"x =\",x)\n",
    "print(\"y =\",y)\n",
    "print()"
   ]
  },
  {
   "cell_type": "code",
   "execution_count": 13,
   "id": "1dac3fe0-d48b-48bf-96dd-ebb8654c75c8",
   "metadata": {},
   "outputs": [
    {
     "name": "stdout",
     "output_type": "stream",
     "text": [
      "a = hello\n",
      "b = 23\n"
     ]
    }
   ],
   "source": [
    "a=\"hello\"\n",
    "b=23\n",
    "assert type(a)==str\n",
    "assert type(b)==int\n",
    "print(\"a =\",a)\n",
    "print(\"b =\",b)"
   ]
  },
  {
   "cell_type": "code",
   "execution_count": null,
   "id": "1cd6338c-be9f-432f-9837-66b5115e4e5a",
   "metadata": {},
   "outputs": [],
   "source": []
  }
 ],
 "metadata": {
  "kernelspec": {
   "display_name": "Python 3 (ipykernel)",
   "language": "python",
   "name": "python3"
  },
  "language_info": {
   "codemirror_mode": {
    "name": "ipython",
    "version": 3
   },
   "file_extension": ".py",
   "mimetype": "text/x-python",
   "name": "python",
   "nbconvert_exporter": "python",
   "pygments_lexer": "ipython3",
   "version": "3.11.4"
  }
 },
 "nbformat": 4,
 "nbformat_minor": 5
}
