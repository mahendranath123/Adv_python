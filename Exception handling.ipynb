{
 "cells": [
  {
   "cell_type": "code",
   "execution_count": 1,
   "id": "0a66f90b-0221-4207-b067-04d0c84ae32a",
   "metadata": {},
   "outputs": [
    {
     "name": "stdout",
     "output_type": "stream",
     "text": [
      "Exception handled\n"
     ]
    }
   ],
   "source": [
    "try:\n",
    "    print(x)\n",
    "except:\n",
    "    print(\"Exception handled\")"
   ]
  },
  {
   "cell_type": "code",
   "execution_count": 7,
   "id": "0808010a-782e-4189-b330-17ac1aea04ad",
   "metadata": {},
   "outputs": [
    {
     "name": "stdout",
     "output_type": "stream",
     "text": [
      "s\n",
      "something else went wrong\n"
     ]
    }
   ],
   "source": [
    "try:\n",
    "    print(\"s\")\n",
    "except NameError:\n",
    "    print(\"variable x is not defined\")\n",
    "else:\n",
    "    print(\"something else went wrong\")"
   ]
  },
  {
   "cell_type": "code",
   "execution_count": 5,
   "id": "ebf77350-670b-437d-b66a-4e43c7eca8d5",
   "metadata": {},
   "outputs": [
    {
     "name": "stdout",
     "output_type": "stream",
     "text": [
      "x\n",
      "Something else went wrong\n"
     ]
    }
   ],
   "source": [
    "try:\n",
    "    print(\"x\")\n",
    "except:\n",
    "    print(\"Variable x is not defined\")\n",
    "else:\n",
    "    print(\"Something else went wrong\")"
   ]
  },
  {
   "cell_type": "code",
   "execution_count": 5,
   "id": "d8e23f9e-70dd-4d97-9db5-6fe546b7d3bd",
   "metadata": {},
   "outputs": [
    {
     "name": "stdout",
     "output_type": "stream",
     "text": [
      "hello\n",
      "Nothning went wrong\n"
     ]
    }
   ],
   "source": [
    "try:\n",
    "    print(\"hello\")\n",
    "except:\n",
    "    print(\"Something else went wrong\")\n",
    "else:\n",
    "    print(\"Nothing went wrong\")"
   ]
  },
  {
   "cell_type": "code",
   "execution_count": 8,
   "id": "fdda46a0-f8dc-4c2f-8c93-31312e2f7089",
   "metadata": {},
   "outputs": [
    {
     "name": "stdout",
     "output_type": "stream",
     "text": [
      "x\n",
      "The 'try except 'is finished\n"
     ]
    }
   ],
   "source": [
    "try:\n",
    "    print(\"x\")\n",
    "except:\n",
    "    print(\"Something else went wrong\")\n",
    "finally:\n",
    "    print(\"The 'try except 'is finished\")"
   ]
  },
  {
   "cell_type": "code",
   "execution_count": 22,
   "id": "79028317-07ba-4688-a8c8-6128e154f351",
   "metadata": {},
   "outputs": [
    {
     "name": "stdout",
     "output_type": "stream",
     "text": [
      "Something went wrong when opening the file: \n",
      "Trying to close the file\n"
     ]
    }
   ],
   "source": [
    "try:\n",
    "     f= open(\"python.txt\") \n",
    "     try:\n",
    "        f.write(\"lorem\")\n",
    "     except Exception as write_error:\n",
    "            print(f\"Something went wrong when writing to the file:\")\n",
    "except Exception as open_error:\n",
    "    print(f\"Something went wrong when opening the file: \")\n",
    "finally:\n",
    "    print(\"Trying to close the file\")\n"
   ]
  },
  {
   "cell_type": "code",
   "execution_count": 23,
   "id": "a5bf68c9-ecd0-4828-add3-9a3614051442",
   "metadata": {},
   "outputs": [
    {
     "name": "stdout",
     "output_type": "stream",
     "text": [
      "-1\n"
     ]
    },
    {
     "ename": "Exception",
     "evalue": "sorry,no number below zero",
     "output_type": "error",
     "traceback": [
      "\u001b[1;31m---------------------------------------------------------------------------\u001b[0m",
      "\u001b[1;31mException\u001b[0m                                 Traceback (most recent call last)",
      "Cell \u001b[1;32mIn[23], line 4\u001b[0m\n\u001b[0;32m      2\u001b[0m \u001b[38;5;28mprint\u001b[39m(x)\n\u001b[0;32m      3\u001b[0m \u001b[38;5;28;01mif\u001b[39;00m x\u001b[38;5;241m<\u001b[39m\u001b[38;5;241m0\u001b[39m:\n\u001b[1;32m----> 4\u001b[0m     \u001b[38;5;28;01mraise\u001b[39;00m \u001b[38;5;167;01mException\u001b[39;00m (\u001b[38;5;124m\"\u001b[39m\u001b[38;5;124msorry,no number below zero\u001b[39m\u001b[38;5;124m\"\u001b[39m)\n",
      "\u001b[1;31mException\u001b[0m: sorry,no number below zero"
     ]
    }
   ],
   "source": [
    "x=-1\n",
    "print(x)\n",
    "if x<0:\n",
    "    raise Exception (\"sorry,no number below zero\")"
   ]
  },
  {
   "cell_type": "code",
   "execution_count": 26,
   "id": "e96f5b00-a95d-486e-9244-2cd912545cfd",
   "metadata": {},
   "outputs": [
    {
     "name": "stdout",
     "output_type": "stream",
     "text": [
      "5\n"
     ]
    }
   ],
   "source": [
    "z=5\n",
    "# z=\"hello\"\n",
    "print(z)\n",
    "if not type(z) is int:\n",
    "    raise TypeError(\"Only integer are allowed\")"
   ]
  },
  {
   "cell_type": "code",
   "execution_count": 28,
   "id": "77f8f70f-5801-41ed-80b7-d36f9dd277fa",
   "metadata": {},
   "outputs": [
    {
     "name": "stdout",
     "output_type": "stream",
     "text": [
      "1\n",
      "it is above zero\n"
     ]
    }
   ],
   "source": [
    "x=1\n",
    "print(x)\n",
    "if x<0:\n",
    "    raise Exception (\"sorry,no number below zero\")\n",
    "else:\n",
    "    print(\"it is above zero\")"
   ]
  },
  {
   "cell_type": "code",
   "execution_count": 29,
   "id": "795c4248-f8ed-4af2-bc4c-d43c3bfac648",
   "metadata": {},
   "outputs": [
    {
     "name": "stdout",
     "output_type": "stream",
     "text": [
      "5\n",
      "hey\n"
     ]
    }
   ],
   "source": [
    "z=5\n",
    "# z=\"hello\"\n",
    "print(z)\n",
    "if not type(z) is int:\n",
    "    raise TypeError(\"Only integer are allowed\")\n",
    "else:\n",
    "    print(\"hey\")"
   ]
  },
  {
   "cell_type": "code",
   "execution_count": 3,
   "id": "bb9229d7-59c9-4d64-9ae9-79078ba084c0",
   "metadata": {},
   "outputs": [
    {
     "name": "stdin",
     "output_type": "stream",
     "text": [
      "Enter a number:  7\n"
     ]
    },
    {
     "name": "stdout",
     "output_type": "stream",
     "text": [
      "Sorry, the index is out of range for the list.\n"
     ]
    }
   ],
   "source": [
    "try:\n",
    "    a = int(input(\"Enter a number: \"))\n",
    "    n = [3, 7]\n",
    "    print(n[a])\n",
    "except ValueError:\n",
    "    print(\"Sorry, we can not convert your input to an integer.\")\n",
    "except IndexError:\n",
    "    print(\"Sorry, the index is out of range for the list.\")\n"
   ]
  },
  {
   "cell_type": "code",
   "execution_count": 4,
   "id": "36e09c97-2a5f-409f-8f89-9fcb69d8f165",
   "metadata": {},
   "outputs": [
    {
     "name": "stdin",
     "output_type": "stream",
     "text": [
      "Enter a number to divide:  5\n",
      "Enter a number to divide by:  0\n"
     ]
    },
    {
     "name": "stdout",
     "output_type": "stream",
     "text": [
      "division by zero\n",
      "You can't divide by zero! idiot!\n",
      "This will always execute\n"
     ]
    }
   ],
   "source": [
    "#exception =   events detected during execution that interrupt the flow of a program\n",
    "\n",
    "try:\n",
    "    numerator = int(input(\"Enter a number to divide: \"))\n",
    "    denominator = int(input(\"Enter a number to divide by: \"))\n",
    "    result = numerator / denominator\n",
    "except ZeroDivisionError as e:\n",
    "    print(e)\n",
    "    print(\"You can't divide by zero! idiot!\")\n",
    "except ValueError as e:\n",
    "    print(e)\n",
    "    print(\"Enter only numbers plz\")\n",
    "except Exception as e:\n",
    "    print(e)\n",
    "    print(\"something went wrong :(\")\n",
    "else:\n",
    "    print(result)\n",
    "finally:\n",
    "    print(\"This will always execute\")\n"
   ]
  },
  {
   "cell_type": "markdown",
   "id": "0a265ebc-46aa-4433-94cc-b8d11ff93aaf",
   "metadata": {},
   "source": [
    "PRACTICE"
   ]
  },
  {
   "cell_type": "code",
   "execution_count": 3,
   "id": "ce407666-9f33-42f7-9d79-1ef362bbbfb6",
   "metadata": {},
   "outputs": [
    {
     "name": "stdout",
     "output_type": "stream",
     "text": [
      "['ArithmeticError', 'AssertionError', 'AttributeError', 'BaseException', 'BaseExceptionGroup', 'BlockingIOError', 'BrokenPipeError', 'BufferError', 'BytesWarning', 'ChildProcessError', 'ConnectionAbortedError', 'ConnectionError', 'ConnectionRefusedError', 'ConnectionResetError', 'DeprecationWarning', 'EOFError', 'Ellipsis', 'EncodingWarning', 'EnvironmentError', 'Exception', 'ExceptionGroup', 'False', 'FileExistsError', 'FileNotFoundError', 'FloatingPointError', 'FutureWarning', 'GeneratorExit', 'IOError', 'ImportError', 'ImportWarning', 'IndentationError', 'IndexError', 'InterruptedError', 'IsADirectoryError', 'KeyError', 'KeyboardInterrupt', 'LookupError', 'MemoryError', 'ModuleNotFoundError', 'NameError', 'None', 'NotADirectoryError', 'NotImplemented', 'NotImplementedError', 'OSError', 'OverflowError', 'PendingDeprecationWarning', 'PermissionError', 'ProcessLookupError', 'RecursionError', 'ReferenceError', 'ResourceWarning', 'RuntimeError', 'RuntimeWarning', 'StopAsyncIteration', 'StopIteration', 'SyntaxError', 'SyntaxWarning', 'SystemError', 'SystemExit', 'TabError', 'TimeoutError', 'True', 'TypeError', 'UnboundLocalError', 'UnicodeDecodeError', 'UnicodeEncodeError', 'UnicodeError', 'UnicodeTranslateError', 'UnicodeWarning', 'UserWarning', 'ValueError', 'Warning', 'WindowsError', 'ZeroDivisionError', '__IPYTHON__', '__build_class__', '__debug__', '__doc__', '__import__', '__loader__', '__name__', '__package__', '__spec__', 'abs', 'aiter', 'all', 'anext', 'any', 'ascii', 'bin', 'bool', 'breakpoint', 'bytearray', 'bytes', 'callable', 'chr', 'classmethod', 'compile', 'complex', 'copyright', 'credits', 'delattr', 'dict', 'dir', 'display', 'divmod', 'enumerate', 'eval', 'exec', 'execfile', 'filter', 'float', 'format', 'frozenset', 'get_ipython', 'getattr', 'globals', 'hasattr', 'hash', 'help', 'hex', 'id', 'input', 'int', 'isinstance', 'issubclass', 'iter', 'len', 'license', 'list', 'locals', 'map', 'max', 'memoryview', 'min', 'next', 'object', 'oct', 'open', 'ord', 'pow', 'print', 'property', 'range', 'repr', 'reversed', 'round', 'runfile', 'set', 'setattr', 'slice', 'sorted', 'staticmethod', 'str', 'sum', 'super', 'tuple', 'type', 'vars', 'zip']\n",
      "161\n"
     ]
    }
   ],
   "source": [
    "print(dir(__builtins__))    # error \n",
    "print(len(dir(__builtins__)))"
   ]
  },
  {
   "cell_type": "code",
   "execution_count": 10,
   "id": "fa316079-1827-4909-bcd6-84bdd06777dd",
   "metadata": {},
   "outputs": [
    {
     "name": "stdout",
     "output_type": "stream",
     "text": [
      "error: division by zero\n"
     ]
    }
   ],
   "source": [
    "try:\n",
    "    a = 5\n",
    "    b = 0\n",
    "    c = a / b\n",
    "    print(\"it is right\")\n",
    "\n",
    "except ZeroDivisionError as e:\n",
    "    print(\"error:\", e)\n"
   ]
  },
  {
   "cell_type": "code",
   "execution_count": 13,
   "id": "9f7595b3-c1df-4e29-80e8-14af0eb93018",
   "metadata": {},
   "outputs": [
    {
     "name": "stdout",
     "output_type": "stream",
     "text": [
      "error...... can only concatenate str (not \"int\") to str\n"
     ]
    }
   ],
   "source": [
    "try:\n",
    "    a = \"2\" + 2\n",
    "    print(\"it is concatenate with str\")\n",
    "\n",
    "except TypeError as e:\n",
    "    print(\"error......\", e)\n"
   ]
  },
  {
   "cell_type": "code",
   "execution_count": 26,
   "id": "238c3be1-c81e-48a8-9d3b-5de9f02e7302",
   "metadata": {},
   "outputs": [
    {
     "name": "stdout",
     "output_type": "stream",
     "text": [
      "Hello, World!\n",
      "finaally excute\n"
     ]
    }
   ],
   "source": [
    "try:\n",
    "     if x:\n",
    "        print(\"Hello, World!\")\n",
    "\n",
    "        \n",
    "except SyntaxError as e:\n",
    "    print(\"Error !\",e)\n",
    "finally:\n",
    "    print(\"finaally excute\")"
   ]
  },
  {
   "cell_type": "code",
   "execution_count": null,
   "id": "e10a50dc-682d-47d9-9d60-c97d86b0539f",
   "metadata": {},
   "outputs": [],
   "source": []
  },
  {
   "cell_type": "code",
   "execution_count": null,
   "id": "0a5e8ac5-f63c-4ee0-ab66-cd9a2b43b835",
   "metadata": {},
   "outputs": [],
   "source": []
  }
 ],
 "metadata": {
  "kernelspec": {
   "display_name": "Python 3 (ipykernel)",
   "language": "python",
   "name": "python3"
  },
  "language_info": {
   "codemirror_mode": {
    "name": "ipython",
    "version": 3
   },
   "file_extension": ".py",
   "mimetype": "text/x-python",
   "name": "python",
   "nbconvert_exporter": "python",
   "pygments_lexer": "ipython3",
   "version": "3.11.4"
  }
 },
 "nbformat": 4,
 "nbformat_minor": 5
}
