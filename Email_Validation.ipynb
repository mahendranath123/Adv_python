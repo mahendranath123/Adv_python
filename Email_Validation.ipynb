{
 "cells": [
  {
   "cell_type": "code",
   "execution_count": 13,
   "id": "919a5da1-bc8f-40c7-8b1a-3c344850776b",
   "metadata": {},
   "outputs": [
    {
     "name": "stdout",
     "output_type": "stream",
     "text": [
      "The domain name our.earth.org does not exist.\n",
      "The email address is not valid. It must have exactly one @-sign.\n"
     ]
    }
   ],
   "source": [
    "import email_validator\n",
    "\n",
    "def check(email):\n",
    "    # Check if the email address is valid\n",
    "    try:\n",
    "        # Validate the email address\n",
    "        v = email_validator.validate_email(email)\n",
    "        # Replace with normalized form\n",
    "        email = v[\"email\"]\n",
    "        print(\"True\")\n",
    "    except email_validator.EmailNotValidError as e:\n",
    "        # Email is not valid, exception message is human readable\n",
    "        print(str(e))\n",
    "    else:\n",
    "        # Check if the domain is valid\n",
    "        domain = email.split('@')\n",
    "        if len(domain) != 2:\n",
    "            print(\"Invalid domain\")\n",
    "        elif not domain[1].endswith('.org') and not domain[1].endswith('.com'):\n",
    "            print(\"Invalid domain\")\n",
    "\n",
    "check(\"my.ownsite@our.earth.org\")\n",
    "check(\"ankit326.com\")"
   ]
  },
  {
   "cell_type": "code",
   "execution_count": 1,
   "id": "e5a3460e-10fd-469e-b16f-2d4db2ff2b71",
   "metadata": {},
   "outputs": [
    {
     "name": "stdout",
     "output_type": "stream",
     "text": [
      "Valid Email\n"
     ]
    }
   ],
   "source": [
    "import re\n",
    "\n",
    "x = r'\\b[A-Za-z0-9._%+-]+@[A-Za-z0-9.-]+\\.[A-Z|a-z]{2,7}\\b'\n",
    "\n",
    "def check(email):\n",
    "    if re.fullmatch(x, email):\n",
    "        print(\"Valid Email\")\n",
    "    else:\n",
    "        print(\"Invalid Email\")\n",
    "\n",
    "if __name__ == '__main__':\n",
    "    email = \"akash@gmail.com\"\n",
    "    check(email)"
   ]
  },
  {
   "cell_type": "code",
   "execution_count": 10,
   "id": "57f7c9ff-3536-42b0-b8d1-bc3c5d9a03f2",
   "metadata": {},
   "outputs": [
    {
     "name": "stdout",
     "output_type": "stream",
     "text": [
      "Invalid Email\n"
     ]
    }
   ],
   "source": [
    "import re\n",
    "\n",
    "x = r'\\b[A-Za-z0-9._%+-]+@[A-Za-z0-9.-]+\\.[A-Z|a-z]{2,7}\\b'\n",
    "\n",
    "def check(email):\n",
    "    if re.fullmatch(x, email):\n",
    "        print(\"Valid Email\")\n",
    "    else:\n",
    "        print(\"Invalid Email\")\n",
    "\n",
    "if __name__ == '__main__':\n",
    "    email = \"123samarthsamel31@gmail.com123\"\n",
    "    check(email)"
   ]
  },
  {
   "cell_type": "code",
   "execution_count": 4,
   "id": "b0b0f9c5-a126-4362-a749-e2812f368375",
   "metadata": {},
   "outputs": [
    {
     "name": "stdout",
     "output_type": "stream",
     "text": [
      "Valid Email\n"
     ]
    }
   ],
   "source": [
    "import re\n",
    "a = open(\"text.txt\", \"r\")\n",
    "c = a.readlines()\n",
    "for d in c:\n",
    "    obj = re.search(r'[\\w.]+\\@[\\w.]+', d)\n",
    "    if obj:\n",
    "        print(\"Valid Email\")\n",
    "    else:\n",
    "        print(\"Invalid Email\")"
   ]
  },
  {
   "cell_type": "code",
   "execution_count": 5,
   "id": "7fff4d5a-7a55-45c8-ab67-c8f71e507746",
   "metadata": {},
   "outputs": [
    {
     "name": "stdout",
     "output_type": "stream",
     "text": [
      "Invalid Email\n"
     ]
    }
   ],
   "source": [
    "import re\n",
    "a=open(\"text.txt\",\"r\")\n",
    "c=a.readlines()\n",
    "b=a.read()\n",
    "c=b.split(\"\\n\")\n",
    "for d in c:\n",
    "    obj=re.search(r'[\\w.]+\\@[\\w.]+',d)\n",
    "    if obj:\n",
    "        print(\"Valid Email\")\n",
    "    else:\n",
    "        print(\"Invalid Email\")"
   ]
  },
  {
   "cell_type": "code",
   "execution_count": 7,
   "id": "3df6ef9a-2c46-4e40-85c1-2176a6de8c74",
   "metadata": {},
   "outputs": [
    {
     "name": "stdout",
     "output_type": "stream",
     "text": [
      "An error occurred: 'Client' object has no attribute 'verify_email'\n",
      "False\n"
     ]
    }
   ],
   "source": [
    "import kickbox.client\n",
    "\n",
    "def is_email_address_valid(email, api_key):\n",
    "    try:\n",
    "        client = kickbox.client.Client(api_key)\n",
    "        response = client.verify_email(email)\n",
    "        if response.status_code == 200:\n",
    "            return response.body[\"result\"] == \"deliverable\"\n",
    "        else:\n",
    "            return False\n",
    "    except Exception as e:\n",
    "        print(\"An error occurred:\", e)\n",
    "        return False\n",
    "\n",
    "email = \"example@example.com\"\n",
    "api_key = \"YOUR_API_KEY\"\n",
    "\n",
    "result = is_email_address_valid(email, api_key)\n",
    "print(result)\n"
   ]
  },
  {
   "cell_type": "code",
   "execution_count": null,
   "id": "39de4d5d-250d-4a4f-8dc7-1ca42aa57a89",
   "metadata": {},
   "outputs": [],
   "source": [
    "#p1\n",
    "import re\n",
    "x= r'\\b[A-Za-z0-9._%+-]+@[A-Za-z0-9.-]+\\.[A-Z|a-z]{2,7}\\b'\n"
   ]
  },
  {
   "cell_type": "markdown",
   "id": "de4d47ca-e296-4a8a-ae8f-8f74fb9b6a6e",
   "metadata": {},
   "source": [
    "\\b: This is a word boundary assertion. It ensures that the pattern matches at the beginning or end of a word.\n",
    "\n",
    "[A-Za-z0-9._%+-]+: This is a character set that matches one or more characters. It includes:\n",
    "\n",
    "A-Z: Uppercase letters from A to Z.\n",
    "a-z: Lowercase letters from a to z.\n",
    "0-9: Digits from 0 to 9.\n",
    "._%+-: Special characters that are allowed in the username part of an email address.\n",
    "@: This matches the \"@\" symbol, which separates the username from the domain name in an email address.\n",
    "\n",
    "[A-Za-z0-9.-]+: This is another character set that matches one or more characters in the domain name. It includes:\n",
    "\n",
    "A-Z: Uppercase letters from A to Z.\n",
    "a-z: Lowercase letters from a to z.\n",
    "0-9: Digits from 0 to 9.\n",
    ".-: The dot (.) and hyphen (-) characters are allowed in the domain name.\n",
    "\\.: This matches a literal dot (.) character, which separates the domain name from the top-level domain (TLD).\n",
    "\n",
    "[A-Z|a-z]{2,7}: This is a character set that matches the TLD. It includes:\n",
    "\n",
    "A-Z: Uppercase letters from A to Z.\n",
    "|: The vertical bar (|) is used to separate the uppercase and lowercase letters.\n",
    "a-z: Lowercase letters from a to z.\n",
    "{2,7}: This quantifier specifies that the TLD should have a minimum of 2 and a maximum of 7 characters.\n",
    "\\b: Another word boundary assertion to ensure the pattern matches at the end of a word."
   ]
  },
  {
   "cell_type": "code",
   "execution_count": 6,
   "id": "56883ef2-f9fd-40bf-be31-f6682590df86",
   "metadata": {},
   "outputs": [
    {
     "name": "stdout",
     "output_type": "stream",
     "text": [
      "valid\n"
     ]
    }
   ],
   "source": [
    "import re\n",
    "a=r'\\b[a-zA-z0-9.-+%]+@[A-Za-z0-9.-]\\.[A-Z|a-z]{2,7}\\b'\n",
    "def check(email):\n",
    "    if re.fullmatch(x,email):\n",
    "        print(\"valid\")\n",
    "    else:\n",
    "        print(\"invalid\")\n",
    "\n",
    "if __name__ == '__main__':\n",
    "    email = \"mah2@gmail.com\"\n",
    "    check(email)"
   ]
  },
  {
   "cell_type": "code",
   "execution_count": 9,
   "id": "9e8d43ed-cc32-4344-874a-ae31118f1d73",
   "metadata": {},
   "outputs": [
    {
     "name": "stdin",
     "output_type": "stream",
     "text": [
      "Enter an email:  da@gmail.com\n"
     ]
    },
    {
     "name": "stdout",
     "output_type": "stream",
     "text": [
      "Valid\n"
     ]
    }
   ],
   "source": [
    "import re\n",
    "\n",
    "x = r'\\b[a-zA-Z0-9._%+-]+@[a-zA-Z0-9.-]+\\.[a-zA-Z]{2,7}\\b'\n",
    "\n",
    "def tw(email):\n",
    "    if re.fullmatch(x, email):\n",
    "        print(\"Valid\")\n",
    "    else:\n",
    "        print(\"Invalid\")\n",
    "\n",
    "tw(input(\"Enter an email: \"))\n"
   ]
  },
  {
   "cell_type": "code",
   "execution_count": null,
   "id": "f9db3cac-0a51-4779-afeb-b86c3326cbfd",
   "metadata": {},
   "outputs": [],
   "source": []
  }
 ],
 "metadata": {
  "kernelspec": {
   "display_name": "Python 3 (ipykernel)",
   "language": "python",
   "name": "python3"
  },
  "language_info": {
   "codemirror_mode": {
    "name": "ipython",
    "version": 3
   },
   "file_extension": ".py",
   "mimetype": "text/x-python",
   "name": "python",
   "nbconvert_exporter": "python",
   "pygments_lexer": "ipython3",
   "version": "3.11.4"
  }
 },
 "nbformat": 4,
 "nbformat_minor": 5
}
