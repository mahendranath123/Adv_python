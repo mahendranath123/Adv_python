{
 "cells": [
  {
   "cell_type": "code",
   "execution_count": 1,
   "id": "8b5a7a2e-3b9e-4129-a1e9-6b99b6d07d0b",
   "metadata": {},
   "outputs": [
    {
     "name": "stdout",
     "output_type": "stream",
     "text": [
      "1\n",
      "2\n",
      "3\n",
      "4\n",
      "5\n",
      "6\n",
      "7\n"
     ]
    }
   ],
   "source": [
    "data=[1,2,3,4,5,6,7]\n",
    "it=iter(data)\n",
    "# print(next(it))\n",
    "# print(next(it))\n",
    "\n",
    "\n",
    "while True:\n",
    "    try:\n",
    "        print(next(it))\n",
    "    except Exception as e:\n",
    "        break"
   ]
  },
  {
   "cell_type": "code",
   "execution_count": null,
   "id": "6003d2f0-2a78-478e-9c32-db55b6bb54d6",
   "metadata": {},
   "outputs": [],
   "source": [
    "tu=(\"a\",\"b\",\"c\",\"d\",\"e\")\n",
    "tu"
   ]
  },
  {
   "cell_type": "code",
   "execution_count": 2,
   "id": "d455bd4c-1270-44ca-945a-200d8c586c14",
   "metadata": {},
   "outputs": [
    {
     "name": "stdout",
     "output_type": "stream",
     "text": [
      "apple\n",
      "banana\n",
      "cherry\n"
     ]
    }
   ],
   "source": [
    "mu=(\"apple\",\"banana\",\"cherry\")\n",
    "my=iter(mu)\n",
    "print(next(my))\n",
    "print(next(my))\n",
    "print(next(my))"
   ]
  },
  {
   "cell_type": "code",
   "execution_count": 3,
   "id": "3ab6b33a-38f1-493d-826a-7cac3890930c",
   "metadata": {},
   "outputs": [
    {
     "name": "stdout",
     "output_type": "stream",
     "text": [
      "b\n",
      "a\n",
      "n\n",
      "a\n",
      "n\n",
      "a\n"
     ]
    }
   ],
   "source": [
    "mu=(\"banana\")\n",
    "my=iter(mu)\n",
    "print(next(my))\n",
    "print(next(my))\n",
    "print(next(my))\n",
    "print(next(my))\n",
    "print(next(my))\n",
    "print(next(my))"
   ]
  },
  {
   "cell_type": "code",
   "execution_count": 4,
   "id": "32d036fb-4292-44d4-bef1-31e88cf56ea2",
   "metadata": {},
   "outputs": [
    {
     "name": "stdout",
     "output_type": "stream",
     "text": [
      "apple\n",
      "banana\n",
      "cherry\n"
     ]
    }
   ],
   "source": [
    "mu=(\"apple\",\"banana\",\"cherry\")\n",
    "for i in mu:\n",
    "    print(i)"
   ]
  },
  {
   "cell_type": "code",
   "execution_count": 5,
   "id": "83a22acc-0e7c-4ad1-91a1-753ee067db52",
   "metadata": {},
   "outputs": [
    {
     "name": "stdout",
     "output_type": "stream",
     "text": [
      "b\n",
      "a\n",
      "n\n",
      "a\n",
      "n\n",
      "a\n"
     ]
    }
   ],
   "source": [
    "mu=(\"banana\")\n",
    "for i in mu:\n",
    "    print(i)"
   ]
  },
  {
   "cell_type": "code",
   "execution_count": 6,
   "id": "27472cde-17b5-4119-b49e-20e5801b1149",
   "metadata": {},
   "outputs": [
    {
     "name": "stdout",
     "output_type": "stream",
     "text": [
      "1\n",
      "2\n",
      "3\n",
      "4\n",
      "5\n",
      "6\n"
     ]
    }
   ],
   "source": [
    "class nu:\n",
    "    def __iter__(self):\n",
    "        self.a=1\n",
    "        return self\n",
    "    def __next__(self):\n",
    "        x=self.a\n",
    "        self.a+=1\n",
    "        return x\n",
    "my=nu()\n",
    "myi=iter(my)\n",
    "\n",
    "print(next(myi))\n",
    "print(next(myi))\n",
    "print(next(myi))\n",
    "print(next(myi))\n",
    "print(next(myi))\n",
    "print(next(myi))"
   ]
  },
  {
   "cell_type": "code",
   "execution_count": 1,
   "id": "349b727e-2740-48f5-90fc-f1850d5d4837",
   "metadata": {},
   "outputs": [
    {
     "name": "stdout",
     "output_type": "stream",
     "text": [
      "1\n",
      "2\n",
      "3\n",
      "4\n",
      "5\n",
      "6\n",
      "7\n",
      "8\n",
      "9\n",
      "10\n",
      "11\n",
      "12\n",
      "13\n",
      "14\n",
      "15\n",
      "16\n",
      "17\n",
      "18\n",
      "19\n",
      "20\n"
     ]
    }
   ],
   "source": [
    "class nu:\n",
    "    def __iter__(self):\n",
    "        self.a = 1\n",
    "        return self\n",
    "\n",
    "    def __next__(self):\n",
    "        if self.a <= 20:\n",
    "            x = self.a\n",
    "            self.a += 1\n",
    "            return x\n",
    "        else:\n",
    "            raise StopIteration\n",
    "\n",
    "my = nu()\n",
    "myi = iter(my)\n",
    "\n",
    "for x in myi:\n",
    "    print(x)\n"
   ]
  },
  {
   "cell_type": "code",
   "execution_count": null,
   "id": "e1a18dec-7653-4d7c-80df-ad18b6567f3f",
   "metadata": {},
   "outputs": [],
   "source": []
  }
 ],
 "metadata": {
  "kernelspec": {
   "display_name": "Python 3 (ipykernel)",
   "language": "python",
   "name": "python3"
  },
  "language_info": {
   "codemirror_mode": {
    "name": "ipython",
    "version": 3
   },
   "file_extension": ".py",
   "mimetype": "text/x-python",
   "name": "python",
   "nbconvert_exporter": "python",
   "pygments_lexer": "ipython3",
   "version": "3.11.4"
  }
 },
 "nbformat": 4,
 "nbformat_minor": 5
}
