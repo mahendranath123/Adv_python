{
 "cells": [
  {
   "cell_type": "code",
   "execution_count": 2,
   "id": "a7e4b831-0f48-4e1c-a06b-633a7c1cf1e1",
   "metadata": {},
   "outputs": [
    {
     "name": "stdout",
     "output_type": "stream",
     "text": [
      "HELLO\n",
      "HELLO\n"
     ]
    }
   ],
   "source": [
    "#\n",
    "def sh(t):\n",
    "   return t.upper()\n",
    "\n",
    "print(sh(\"hello\"))\n",
    "fa=sh\n",
    "print(fa(\"hello\"))"
   ]
  },
  {
   "cell_type": "code",
   "execution_count": 9,
   "id": "1ea6ef0f-9e08-47ec-bf6c-3739db374270",
   "metadata": {},
   "outputs": [
    {
     "name": "stdout",
     "output_type": "stream",
     "text": [
      "HI I CREATING THE WORLD\n",
      "hi i creating the world\n"
     ]
    }
   ],
   "source": [
    "def shr(t):\n",
    "    return t.upper()\n",
    "\n",
    "def wh(t):\n",
    "    return t.lower()\n",
    "\n",
    "def gr(fuct):\n",
    "    gre = fuct(\"\"\"hi i creating the world\"\"\")\n",
    "    print(gre)\n",
    "\n",
    "gr(shr)\n",
    "gr(wh)"
   ]
  },
  {
   "cell_type": "code",
   "execution_count": 12,
   "id": "8fcf3eaa-d724-4e2e-88f6-956664c22140",
   "metadata": {},
   "outputs": [
    {
     "name": "stdout",
     "output_type": "stream",
     "text": [
      "55\n"
     ]
    }
   ],
   "source": [
    "def cr(x):\n",
    "    def ad(y):\n",
    "        return x+y\n",
    "\n",
    "    return ad\n",
    "\n",
    "ad1=cr(45)\n",
    "print(ad1(10))"
   ]
  },
  {
   "cell_type": "code",
   "execution_count": 1,
   "id": "c6317e09-70f8-4414-beab-a9a51a31ed94",
   "metadata": {},
   "outputs": [
    {
     "name": "stdout",
     "output_type": "stream",
     "text": [
      "before Execution\n",
      "Inside the function\n",
      "after Execution\n",
      "sum= 3\n"
     ]
    }
   ],
   "source": [
    "def hello_decorator(func):\n",
    "    def inner1(*args, **kwargs):\n",
    "        print(\"before Execution\")\n",
    "        #getting the returned value\n",
    "        returned_value=func(*args,**kwargs)\n",
    "        print(\"after Execution\")\n",
    "        #returning the value to the original frame\n",
    "        return returned_value\n",
    "\n",
    "    return inner1\n",
    "\n",
    "#adding decorator to the function\n",
    "@hello_decorator\n",
    "def sum_two_numbers(a,b):\n",
    "    print(\"Inside the function\")\n",
    "    return a+b\n",
    "\n",
    "a,b=1,2\n",
    "#getting the value through return of the function\n",
    "print(\"sum=\",sum_two_numbers(a,b))"
   ]
  },
  {
   "cell_type": "code",
   "execution_count": null,
   "id": "8c5251ba-69a8-4b83-aad9-df03b098c9a9",
   "metadata": {},
   "outputs": [],
   "source": [
    "#defining a decorator\n",
    "def hello_decprator(func):\n",
    "    #inner1 is a Wrapper function in \n",
    "    #which the argument is called\n",
    "    #inner function like in this case *func*\n",
    "    def inner1():\n",
    "        print(\"Hello, this is before function execution\")\n",
    "        #calling the actual function now \n",
    "        #inside the wrapper function.\n",
    "        func()\n",
    "        print(\"This is after function execution\")\n",
    "    return inner1\n",
    "\n",
    "#defining a function to be called inside wrapper\n",
    "def function_to_be_used():\n",
    "    print(\"This is inside the function!!\")\n",
    "\n",
    "#passing function_to_be_used inside the\n",
    "#decorator to control its behaviour\n",
    "function_to_be_used=hello_decorator(function_to_be_used)\n",
    "\n",
    "#calling the function \n",
    "function_to_be_used()"
   ]
  },
  {
   "cell_type": "code",
   "execution_count": null,
   "id": "03d6dbbe-7744-4491-b660-ed27f7c806f3",
   "metadata": {},
   "outputs": [],
   "source": [
    "#importing libraries\n",
    "import time \n",
    "import math\n",
    "\n",
    "#decortor to calculate duration\n",
    "#def calculate_time(func)\n",
    "def calculate_time(func):\n",
    "    #added arguments inside the inner1\n",
    "    #if function takes any arguments,\n",
    "    #can be added like this.\n",
    "    def inner1(*args,**kwargs):\n",
    "        #storing time befor function execution\n",
    "        begin=time.time()\n",
    "        func(*args,**kwargs)\n",
    "        #storing time after function execution \n",
    "        end=time.time()\n",
    "        print(\"Total time taken in:\", func.__name__, end - begin)\n",
    "    return inner1\n",
    "\n",
    "#this can be added to any function present,\n",
    "#in this case to calculate a factorial\n",
    "@calculate_time\n",
    "def factorial(num):\n",
    "    #sleep 2 seconds because it takes very less time\n",
    "    #so that you can see the actual difference\n",
    "    time.sleep(2)\n",
    "    print(math.factorial(num))\n",
    "\n",
    "#calling the function\n",
    "factorial(10)"
   ]
  },
  {
   "cell_type": "code",
   "execution_count": 9,
   "id": "7fff3f6f-c704-4279-bd85-bb5524050d68",
   "metadata": {},
   "outputs": [
    {
     "name": "stdout",
     "output_type": "stream",
     "text": [
      "min: -15\n",
      "max: 100\n"
     ]
    }
   ],
   "source": [
    "def dec(func):\n",
    "    def i(l):\n",
    "        minimum = l[0]  \n",
    "        for no in l:\n",
    "            if minimum > no:\n",
    "                minimum = no\n",
    "        print(\"min:\", minimum)\n",
    "        func(l)\n",
    "\n",
    "    return i\n",
    "\n",
    "@dec\n",
    "def f(l):\n",
    "    maximum = l[0]  \n",
    "    for no in l:\n",
    "        if maximum < no:\n",
    "            maximum = no\n",
    "    print(\"max:\", maximum)\n",
    "\n",
    "f([100, 20, -15, 40, 5])\n"
   ]
  },
  {
   "cell_type": "code",
   "execution_count": 27,
   "id": "8274b9f7-8174-40aa-abc6-7cbe6b834545",
   "metadata": {},
   "outputs": [
    {
     "name": "stdout",
     "output_type": "stream",
     "text": [
      "good\n",
      "decorded\n"
     ]
    }
   ],
   "source": [
    "def fa(fuc):\n",
    "    def ord():\n",
    "        print(\"good\")\n",
    "        fuc()\n",
    "    return ord\n",
    "\n",
    "@fa\n",
    "def j():\n",
    "    print(\"decorded\")\n",
    "\n",
    "j()\n",
    "\n",
    "\n"
   ]
  },
  {
   "cell_type": "code",
   "execution_count": 45,
   "id": "1718be04-b2ac-41f3-ba60-d14e33a98228",
   "metadata": {},
   "outputs": [
    {
     "name": "stdout",
     "output_type": "stream",
     "text": [
      "I am  going to divide, 2 and  5\n",
      "0.4\n",
      "I am  going to divide, 2 and  0\n",
      "whhoops cannnor divide \n"
     ]
    }
   ],
   "source": [
    "def smart_divide(fuc):\n",
    "    def inner(a,b):\n",
    "        print(\"I am  going to divide,\",a,\"and \",b)\n",
    "        if b==0:\n",
    "            print(\"whhoops cannnor divide \")\n",
    "            return\n",
    "        return fuc(a,b)\n",
    "    return inner\n",
    "\n",
    "@smart_divide\n",
    "def divide(a,b):\n",
    "    print(a/b)\n",
    "\n",
    "divide(2,5)\n",
    "divide(2,0)\n",
    "\n",
    "\n",
    "    \n"
   ]
  },
  {
   "cell_type": "code",
   "execution_count": 46,
   "id": "c5452caf-eab4-45b0-b974-f9e89a723b8d",
   "metadata": {},
   "outputs": [
    {
     "name": "stdout",
     "output_type": "stream",
     "text": [
      "*************************\n",
      "%%%%%%%%%%%%%%%%%%%%%%%%%\n",
      "HELLO CHAINING  DECORDERS\n",
      "%%%%%%%%%%%%%%%%%%%%%%%%%\n",
      "*************************\n"
     ]
    }
   ],
   "source": [
    "# chaining decortars\n",
    "def star (fuc):\n",
    "    def inner (*args,**kwargs):\n",
    "        print(\"*\"*25)\n",
    "        fuc(*args,**kwargs)\n",
    "        print(\"*\"*25)\n",
    "    return inner\n",
    "def percent(fuc):\n",
    "    def inner(*args,**kwargs):\n",
    "        print(\"%\"*25)\n",
    "        fuc(*args,**kwargs)\n",
    "        print(\"%\"*25)\n",
    "    return inner\n",
    "\n",
    "@star\n",
    "@percent\n",
    "def printer(msg):\n",
    "    print(msg)\n",
    "\n",
    "printer(\"HELLO CHAINING  DECORDERS\")"
   ]
  },
  {
   "cell_type": "code",
   "execution_count": 8,
   "id": "8671ef2d-e8cb-430b-930c-883c2bd7d7c2",
   "metadata": {},
   "outputs": [
    {
     "name": "stdout",
     "output_type": "stream",
     "text": [
      "it is fuction\n",
      "hey \n"
     ]
    }
   ],
   "source": [
    "# p1\n",
    "def ja (fuc):\n",
    "    def ha( ):\n",
    "        print(\"it is fuction\")\n",
    "        fuc()\n",
    "        \n",
    "    return ha\n",
    "@ja\n",
    "def ka():\n",
    "    print(\"hey \")\n",
    "ka()\n"
   ]
  },
  {
   "cell_type": "code",
   "execution_count": 19,
   "id": "0f28f7db-0cf4-4706-a4b3-60b85c88a143",
   "metadata": {},
   "outputs": [
    {
     "name": "stdout",
     "output_type": "stream",
     "text": [
      "Addition of two number: 145\n",
      "substraction of two number 33\n"
     ]
    }
   ],
   "source": [
    "def ga (fuc):\n",
    "    def ha(a,b):\n",
    "        print(\"Addition of two number:\",a+b)\n",
    "        fuc(a,b)\n",
    "    return ha\n",
    "@ga\n",
    "def ja (a,b):\n",
    "    print(\"substraction of two number\",a-b)\n",
    "ja(89,56)\n",
    "\n",
    "        "
   ]
  },
  {
   "cell_type": "code",
   "execution_count": 23,
   "id": "da2a2340-3187-4da5-ac99-a90a322a8926",
   "metadata": {},
   "outputs": [
    {
     "name": "stdin",
     "output_type": "stream",
     "text": [
      "enter a number 22\n"
     ]
    },
    {
     "name": "stdout",
     "output_type": "stream",
     "text": [
      "it is even number 22\n",
      "it end with  2 22\n"
     ]
    }
   ],
   "source": [
    "def ka (fuc):\n",
    "    def op (a):\n",
    "        if(a%2==0):\n",
    "            print(\"it is even number\", a)\n",
    "        else:\n",
    "            print(\"it is odd number\",a)\n",
    "        fuc(a)\n",
    "    return (op)\n",
    "\n",
    "@ka\n",
    "def uy (a):\n",
    "    if(a%10==2):\n",
    "        print(\"it end with  2\",a)\n",
    "    else:\n",
    "        print(\"it is  not end with 2\",a)\n",
    "num=(int(input(\"enter a number\")))\n",
    "uy(num)"
   ]
  },
  {
   "cell_type": "markdown",
   "id": "bd2a8d23-956c-4466-854f-8acd2662b751",
   "metadata": {},
   "source": [
    "Pract"
   ]
  },
  {
   "cell_type": "code",
   "execution_count": 4,
   "id": "71d05d23-f816-4567-920b-31d12186edcc",
   "metadata": {},
   "outputs": [
    {
     "name": "stdout",
     "output_type": "stream",
     "text": [
      "Hello!\n",
      "Hello!\n"
     ]
    }
   ],
   "source": [
    "def do_twice(func):\n",
    "  func()\n",
    "  func()\n",
    "\n",
    "def say_hello():\n",
    "  print(\"Hello!\")\n",
    "\n",
    "do_twice(say_hello)\n"
   ]
  },
  {
   "cell_type": "code",
   "execution_count": 8,
   "id": "298dc96e-0726-4bc8-aa19-dfc9ee1c1dad",
   "metadata": {},
   "outputs": [
    {
     "name": "stdout",
     "output_type": "stream",
     "text": [
      "I am the parent function\n",
      "I am the first child function\n",
      "I am the second child function\n"
     ]
    }
   ],
   "source": [
    "def parent():\n",
    "  print(\"I am the parent function\")\n",
    "\n",
    "  def first_child():\n",
    "    print(\"I am the first child function\")\n",
    "\n",
    "  def second_child():\n",
    "    print(\"I am the second child function\")\n",
    "\n",
    "  first_child()\n",
    "  second_child()\n",
    "\n",
    "parent()\n"
   ]
  },
  {
   "cell_type": "code",
   "execution_count": 12,
   "id": "7a15d4ce-dfe3-4ebe-bfed-4e9cd31cf845",
   "metadata": {},
   "outputs": [
    {
     "name": "stdout",
     "output_type": "stream",
     "text": [
      "Message: Hello!\n",
      "Message: Bye!\n"
     ]
    }
   ],
   "source": [
    "def outer(message):\n",
    "  def inner():\n",
    "    print(\"Message:\", message)\n",
    "\n",
    "  return inner\n",
    " \n",
    "\n",
    "\n",
    "hello_msg = outer(\"Hello!\")\n",
    "hello_msg()\n",
    "\n",
    "bye_msg = outer(\"Bye!\")\n",
    "bye_msg()\n"
   ]
  },
  {
   "cell_type": "code",
   "execution_count": 15,
   "id": "4e8bd98e-af08-4a79-9b8b-14c2f4c7d68e",
   "metadata": {},
   "outputs": [
    {
     "name": "stdout",
     "output_type": "stream",
     "text": [
      "sleepy_function took 0.3011147975921631\n",
      "sleepy_function took 0.5014855861663818\n"
     ]
    }
   ],
   "source": [
    "# Real life example\n",
    "\n",
    "from time import time, sleep\n",
    "    \n",
    "def measure(func):\n",
    "    def wrapper(*args, **kwargs):\n",
    "        t = time()\n",
    "        func(*args, **kwargs)\n",
    "        print(func.__name__, 'took', time() - t)\n",
    "    return wrapper\n",
    "\n",
    "@measure\n",
    "def sleepy_function(sleep_time):\n",
    "    sleep(sleep_time)\n",
    "\n",
    "sleepy_function(0.3)\n",
    "sleepy_function(0.5)\n"
   ]
  },
  {
   "cell_type": "code",
   "execution_count": null,
   "id": "6f6dc5a8-7d82-47d1-a291-e8c7ee6c80fe",
   "metadata": {},
   "outputs": [],
   "source": []
  }
 ],
 "metadata": {
  "kernelspec": {
   "display_name": "Python 3 (ipykernel)",
   "language": "python",
   "name": "python3"
  },
  "language_info": {
   "codemirror_mode": {
    "name": "ipython",
    "version": 3
   },
   "file_extension": ".py",
   "mimetype": "text/x-python",
   "name": "python",
   "nbconvert_exporter": "python",
   "pygments_lexer": "ipython3",
   "version": "3.11.4"
  }
 },
 "nbformat": 4,
 "nbformat_minor": 5
}
